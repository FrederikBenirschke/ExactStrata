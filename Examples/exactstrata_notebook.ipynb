{
 "cells": [
  {
   "cell_type": "markdown",
   "id": "49c0c7db",
   "metadata": {},
   "source": [
    "# Strata of exact differentials - Cross-checks"
   ]
  },
  {
   "cell_type": "markdown",
   "id": "533ffe67",
   "metadata": {},
   "source": [
    "Let $X=\\mathbb{P}\\mathcal{H}(\\mu)$ be a projectivized stratum and $\\mathcal{V}\\subseteq\\mathcal{H}$ a globally defined sublocal system.\n",
    "An exact stratum is specified using \n",
    "`ExactStratum(generalized_stratum, relative_sub_space)`\n",
    "where 'generalized_stratum' determines the ambient GeneralisedStratum and `relative_sub_space` describe the linear equations among marked points, i.e., specifies which marked points lie in the same fiber.\n",
    "For example \n",
    "\n",
    "```ExactStratum(Stratum([-5,1,1,1,0,0]), [[0,1,-1,0,0,0],[0,0,0,1,-1,0],[0,0,0,0,1,-1]])```\n",
    "\n",
    "describes degree $4$ covers $\\mathbb{P}^1\\to \\mathbb{P}^1$ with ramification profile $(4),(2,2),(2,1,1)$.\n",
    "(Note that one could remove the two marked points with multiplicity zero and instead use \n",
    "```ExactStratum(Stratum([-5,1,1,1]), [[0,1,-1,0,0]])```, which describes the same class up to a degree shift because of the extra marked points.)\n",
    "\n",
    "Then \n",
    "\n",
    "```A = ExactStratum(generalized_stratum, relative_sub_space).exact_stratum_class()```\n",
    "\n",
    "computes the class of the locus $\\operatorname{Exc}_{\\lambda}$ of $\\lambda$-exact differentials in the Chow ring $\\operatorname{CH}^*(\\mathbb{P}\\Xi(\\mu))$.\n",
    "The result is a SymbolicExpression corresponding to a divisorial tautological class as a product in $\\xi$ and boundary divisors $D_{\\Gamma}$.\n",
    "Afterwards `A.to_ELG(symbolic_class)` converts the class to an ELGTautClass, i.e. a class in the tautological ring of the moduli space of multi-scale differentials. \n",
    "The pushforward $\\rho_*[\\overline{\\operatorname{Exc}}_{\\lambda}]$ in the Chow ring of $\\overline{\\mathcal{M}}_{g,n}$ under the forgetful map $\\rho:\\mathbb{P}\\Xi(\\mu)\\to\\overline{\\mathcal{M}}_{g,n}$\n",
    "is then obtained by applying `A.pushforward(elg_taut_class)`.\n",
    "\n",
    "\n"
   ]
  },
  {
   "cell_type": "code",
   "execution_count": 1,
   "id": "0f57b763",
   "metadata": {},
   "outputs": [],
   "source": [
    "from admcycles import *\n",
    "from admcycles.diffstrata import *\n",
    "\n",
    "from exactstrata import *"
   ]
  },
  {
   "cell_type": "code",
   "execution_count": 2,
   "id": "d4cef105-8860-45eb-8f90-cb00110ca92a",
   "metadata": {},
   "outputs": [
    {
     "name": "stdout",
     "output_type": "stream",
     "text": [
      "from sage.rings.power_series_ring import PowerSeriesRing\n"
     ]
    }
   ],
   "source": [
    "import_statements(PowerSeriesRing)"
   ]
  },
  {
   "cell_type": "markdown",
   "id": "81c83922",
   "metadata": {},
   "source": [
    "## First cross-check: Elliptic curves with marked 2-torsion\n",
    "Consider the closure of the locus \n",
    "\\begin{equation}\n",
    "Z=\\{ (E,p,q,r,s)\\in\\mathcal{M}_{1,4}\\,:\\, \\exists \\text{ degree $2$ covering} f:E\\to\\mathbb{P}^1 \\text{ ramified at } p,q,r,s\\}\n",
    "\\end{equation} inside $\\overline{\\mathcal{M}}_{1,4}$.\n",
    "We can compute the class of the closure of the stratum of exact differentials $\\operatorname{Exc}(-3,1^4)$ in $\\mathcal{H}(-3,1^4)$ and push it forward to $\\mathcal{M}_{1,4}$."
   ]
  },
  {
   "cell_type": "code",
   "execution_count": 3,
   "id": "6006aa0f",
   "metadata": {},
   "outputs": [
    {
     "name": "stdout",
     "output_type": "stream",
     "text": [
      "Avoiding blowup\n",
      "Divisorial tautological class:  (D_12 + D_13 + D_14 + xi)^2 + (D_12 + xi)*D_4 + (D_13 + xi)*D_5 + (D_14 + xi)*D_6 + 2*D_11*xi\n"
     ]
    },
    {
     "data": {
      "text/html": [
       "<html>\\(\\displaystyle \\verb|Simplify|\\verb| |\\verb|pushforward|\\verb| |\\verb|using|\\verb| |\\verb|Faber-Zagier|\\verb| |\\verb|relations:|\\)</html>"
      ],
      "text/latex": [
       "$\\displaystyle \\verb|Simplify|\\verb| |\\verb|pushforward|\\verb| |\\verb|using|\\verb| |\\verb|Faber-Zagier|\\verb| |\\verb|relations:|$"
      ],
      "text/plain": [
       "'Simplify pushforward using Faber-Zagier relations:'"
      ]
     },
     "metadata": {},
     "output_type": "display_data"
    },
    {
     "name": "stdout",
     "output_type": "stream",
     "text": [
      "Graph :      [1] [[1, 2, 3, 4]] []\n",
      "Polynomial : 75/2*(kappa_3)_0 - 45/4*(kappa_1*kappa_2)_0 + 3/4*(kappa_1^3)_0 + 3/2*(kappa_2)_0*psi_1 + 3/2*(kappa_2)_0*psi_2 + 3/2*(kappa_2)_0*psi_3 + 3/2*(kappa_2)_0*psi_4\n"
     ]
    },
    {
     "data": {
      "text/plain": [
       "(75/2, -45/4, 3/4, 3/2, 0, 3/2, 0, 3/2, 0, 3/2, 0, 0)"
      ]
     },
     "execution_count": 3,
     "metadata": {},
     "output_type": "execute_result"
    }
   ],
   "source": [
    "A= ExactStratum(Stratum([-3,1,1,1]),[])\n",
    "divtaut =  A.exact_stratum_class()\n",
    "print(\"Divisorial tautological class: \", divtaut)\n",
    "cl= A.pushforward(A.to_ELG(divtaut))\n",
    "show(\"Simplify pushforward using Faber-Zagier relations:\")\n",
    "print(cl.FZsimplify())\n",
    "cl.basis_vector()"
   ]
  },
  {
   "cell_type": "markdown",
   "id": "64bad986",
   "metadata": {},
   "source": [
    "Avoiding blowup means that we use the exact formulas in g=0,1 instead of the recursive blow up procedure.\n",
    "We can also use the blowup recursion instead."
   ]
  },
  {
   "cell_type": "code",
   "execution_count": 4,
   "id": "b865b903",
   "metadata": {},
   "outputs": [
    {
     "name": "stdout",
     "output_type": "stream",
     "text": [
      "Avoiding blowup\n"
     ]
    },
    {
     "data": {
      "text/plain": [
       "0"
      ]
     },
     "execution_count": 4,
     "metadata": {},
     "output_type": "execute_result"
    }
   ],
   "source": [
    "(A.exact_stratum_class() - A.exact_stratum_class(avoiding_blowup = False)).expand()"
   ]
  },
  {
   "cell_type": "markdown",
   "id": "ad8a1780",
   "metadata": {},
   "source": [
    "To cross-check our computation we compute the class in $\\overline{\\mathcal{M}}_{1,4}$ using `admcycles` instead.\n"
   ]
  },
  {
   "cell_type": "code",
   "execution_count": 5,
   "id": "1eaf1bea",
   "metadata": {},
   "outputs": [
    {
     "name": "stdout",
     "output_type": "stream",
     "text": [
      "Admcycles computation:  (75/2, -45/4, 3/4, 3/2, 0, 3/2, 0, 3/2, 0, 3/2, 0, 0)\n"
     ]
    },
    {
     "data": {
      "text/plain": [
       "True"
      ]
     },
     "execution_count": 5,
     "metadata": {},
     "output_type": "execute_result"
    }
   ],
   "source": [
    "print('Admcycles computation: ', Hyperell(1,4,0).basis_vector())\n",
    "(Hyperell(1,4,0)-cl).is_zero()"
   ]
  },
  {
   "cell_type": "markdown",
   "id": "501afd92",
   "metadata": {},
   "source": [
    "## Sanity checks"
   ]
  },
  {
   "cell_type": "markdown",
   "id": "03ff403a",
   "metadata": {},
   "source": [
    "A holomorphic stratum or with only simple poles does not have exact differentials, thus the fundamental class has to be zero in this case.\n",
    "ELGTautClass cannot be simplified to see if they are zero or not, so instead we pushforward to $\\overline{\\mathcal{M}}_{g,n}$ and verify that the pushforward is zero.\n",
    "Here we use that the Chow class of a subvariety in a projective variety is zero if and only if the subvariety is empty."
   ]
  },
  {
   "cell_type": "code",
   "execution_count": 6,
   "id": "b27c9566",
   "metadata": {},
   "outputs": [
    {
     "data": {
      "text/html": [
       "<html>\\(\\displaystyle 4 \\, D_{1} \\xi^{3} + \\xi^{4}\\)</html>"
      ],
      "text/latex": [
       "$\\displaystyle 4 \\, D_{1} \\xi^{3} + \\xi^{4}$"
      ],
      "text/plain": [
       "4*D_1*xi^3 + xi^4"
      ]
     },
     "metadata": {},
     "output_type": "display_data"
    },
    {
     "data": {
      "text/plain": [
       "True"
      ]
     },
     "execution_count": 6,
     "metadata": {},
     "output_type": "execute_result"
    }
   ],
   "source": [
    "# Holomorphic stratum\n",
    "A= ExactStratum(Stratum([2]),[])\n",
    "cl = A.exact_stratum_class()\n",
    "show(cl)\n",
    "A.to_ELG(cl) == A.X.ZERO"
   ]
  },
  {
   "cell_type": "markdown",
   "id": "473a16d4",
   "metadata": {},
   "source": [
    "Similarly exact differentials cannot have simple poles (since then the residue gives a non-zero period)."
   ]
  },
  {
   "cell_type": "code",
   "execution_count": 7,
   "id": "6255c5f3",
   "metadata": {
    "scrolled": true
   },
   "outputs": [
    {
     "name": "stdout",
     "output_type": "stream",
     "text": [
      "Tautological class on Stratum: (2, -1, -1)\n",
      "with residue conditions: []\n",
      "\n",
      "\n"
     ]
    },
    {
     "data": {
      "text/html": [
       "<html>\\(\\displaystyle \\mathrm{True}\\)</html>"
      ],
      "text/latex": [
       "$\\displaystyle \\mathrm{True}$"
      ],
      "text/plain": [
       "True"
      ]
     },
     "metadata": {},
     "output_type": "display_data"
    }
   ],
   "source": [
    "# Stratum with simple zeros\n",
    "A= ExactStratum(Stratum([2,-1,-1]),[])\n",
    "cl = A.exact_stratum_class(avoiding_blowup = True)\n",
    "print(cl)\n",
    "show(cl==A.X.ZERO) # Note that this is only a sufficient but not necessary check\n",
    "# since we do not know all relation among ELGTautClasses "
   ]
  },
  {
   "cell_type": "code",
   "execution_count": null,
   "id": "9d1d213b-57bb-4fac-bcaf-4ce38ef357d8",
   "metadata": {},
   "outputs": [],
   "source": []
  },
  {
   "cell_type": "markdown",
   "id": "075f6d1a",
   "metadata": {},
   "source": [
    "In the following example with simple poles the resulting tautological class is highly complicated. Nonetheless it reduces to zero."
   ]
  },
  {
   "cell_type": "code",
   "execution_count": 8,
   "id": "aeae0c71",
   "metadata": {},
   "outputs": [
    {
     "name": "stdout",
     "output_type": "stream",
     "text": [
      "Avoiding blowup\n",
      "-((D_11 + D_12 + 2*D_13 + xi)^2 + (D_11 + D_12 + 2*D_13 + xi)*D_3 + (D_12 + xi)*D_7 + 2*(2*D_13 + xi)*D_9 + D_6*xi)*(D_0 + D_1 + D_12 + 2*D_2 + D_4 + 3*D_5 + D_6 + D_7 + xi)\n"
     ]
    },
    {
     "data": {
      "text/plain": [
       "(0)"
      ]
     },
     "execution_count": 8,
     "metadata": {},
     "output_type": "execute_result"
    }
   ],
   "source": [
    "# Stratum with simple zeros\n",
    "A= ExactStratum(Stratum([-2,-1,2,1]),[])\n",
    "cl = A.exact_stratum_class(avoiding_blowup = True)\n",
    "print(cl)\n",
    "A.pushforward(A.to_ELG(cl)).basis_vector()"
   ]
  },
  {
   "cell_type": "markdown",
   "id": "2806a889",
   "metadata": {},
   "source": [
    "Here is an expression of the tautological class in terms of decorated strata classes."
   ]
  },
  {
   "cell_type": "code",
   "execution_count": 9,
   "id": "9c39d19f",
   "metadata": {},
   "outputs": [
    {
     "data": {
      "text/plain": [
       "Graph :      [1] [[1, 2, 3, 4]] []\n",
       "Polynomial : -1/2*(kappa_1)_0*psi_1^3 + 1/2*psi_1^4 + 9/2*psi_1^3*psi_3 + 2*psi_1^3*psi_4\n",
       "\n",
       "Graph :      [0] [[6, 7, 1, 2, 3, 4]] [(6, 7)]\n",
       "Polynomial : -1/24*psi_1^3\n",
       "\n",
       "Graph :      [0, 1] [[1, 2, 3, 4, 6], [7]] [(6, 7)]\n",
       "Polynomial : -psi_1*psi_6*psi_7\n",
       "\n",
       "Graph :      [0, 1] [[1, 2, 4, 6], [3, 7]] [(6, 7)]\n",
       "Polynomial : 1/2*(kappa_1)_1*psi_1*psi_7 - 9/2*psi_1*psi_3*psi_7 - 1/2*psi_1*psi_7^2\n",
       "\n",
       "Graph :      [0, 1] [[2, 3, 6], [1, 4, 7]] [(6, 7)]\n",
       "Polynomial : (kappa_1)_1*psi_1^2 - 3*psi_1^3 - 4*psi_1^2*psi_4 - 4*psi_1^2*psi_7\n",
       "\n",
       "Graph :      [0, 1] [[2, 4, 6], [1, 3, 7]] [(6, 7)]\n",
       "Polynomial : 1/2*(kappa_1)_1*psi_1^2 - psi_1^3 - 9/2*psi_1^2*psi_3 - 1/2*psi_1^2*psi_7\n",
       "\n",
       "Graph :      [0, 1] [[3, 4, 6], [1, 2, 7]] [(6, 7)]\n",
       "Polynomial : -8*psi_1^3\n",
       "\n",
       "Graph :      [0, 0] [[1, 2, 4, 9], [7, 8, 3, 10]] [(7, 8), (9, 10)]\n",
       "Polynomial : 1/24*psi_1*psi_10\n",
       "\n",
       "Graph :      [0, 0] [[2, 3, 9], [7, 8, 1, 4, 10]] [(7, 8), (9, 10)]\n",
       "Polynomial : 1/12*psi_1^2\n",
       "\n",
       "Graph :      [0, 0] [[2, 4, 9], [7, 8, 1, 3, 10]] [(7, 8), (9, 10)]\n",
       "Polynomial : 1/24*psi_1^2\n",
       "\n",
       "Graph :      [0, 0] [[7, 3, 9], [8, 1, 2, 4, 10]] [(7, 8), (9, 10)]\n",
       "Polynomial : -1/2*psi_1^2\n",
       "\n",
       "Graph :      [0, 0, 1] [[2, 3, 7], [1, 4, 8, 9], [10]] [(7, 8), (9, 10)]\n",
       "Polynomial : 2*psi_1*psi_10\n",
       "\n",
       "Graph :      [0, 0, 1] [[2, 3, 7], [4, 8, 9], [1, 10]] [(7, 8), (9, 10)]\n",
       "Polynomial : 9*psi_1^2\n",
       "\n",
       "Graph :      [0, 0, 1] [[2, 4, 7], [1, 8, 9], [3, 10]] [(7, 8), (9, 10)]\n",
       "Polynomial : -1/2*(kappa_1)_2*psi_10 + 9/2*psi_3*psi_10 + 1/2*psi_10^2\n",
       "\n",
       "Graph :      [0, 0, 1] [[2, 4, 7], [3, 8, 9], [1, 10]] [(7, 8), (9, 10)]\n",
       "Polynomial : 9/2*psi_1^2\n",
       "\n",
       "Graph :      [0, 0, 0] [[1, 2, 4, 10], [8, 11, 12], [9, 3, 13]] [(8, 9), (10, 11), (12, 13)]\n",
       "Polynomial : 1/2*psi_1\n",
       "\n",
       "Graph :      [0, 0, 0] [[2, 4, 10], [1, 11, 12], [8, 9, 3, 13]] [(8, 9), (10, 11), (12, 13)]\n",
       "Polynomial : -1/24*psi_13\n",
       "\n",
       "Graph :      [0, 0, 0] [[2, 4, 10], [8, 3, 12], [9, 1, 11, 13]] [(8, 9), (10, 11), (12, 13)]\n",
       "Polynomial : 1/2*psi_1\n",
       "\n",
       "Graph :      [0, 0, 0, 0] [[2, 4, 11], [1, 12, 13], [9, 14, 15], [10, 3, 16]] [(9, 10), (11, 12), (13, 14), (15, 16)]\n",
       "Polynomial : -1/2"
      ]
     },
     "execution_count": 9,
     "metadata": {},
     "output_type": "execute_result"
    }
   ],
   "source": [
    "A.pushforward(A.to_ELG(cl)).simplify()"
   ]
  },
  {
   "cell_type": "markdown",
   "id": "9663c846",
   "metadata": {},
   "source": [
    "## Cross-check: Double ramification in genus 1\n",
    "Fix a collection of non-negative integers $\\underline{a}=(a_1,\\ldots,a_n)$ with $\\sum_i a_i=0$. We can define the following divisor class in $\\overline{\\mathcal{M}}_{1,n}$: Define $D_{\\underline{a}}$ to be the closure of the locus where $\\mathcal{O}(\\sum_i a_ip_i)\\simeq \\mathcal{O}$. We let $N=\\{1,\\ldots,n\\}$.\n",
    "Then then divisor class is given by $D_{\\underline{a}}= \\left(-1+\\dfrac{1}{2}\\sum_i a_i^2\\right)\\left(\\lambda+\\sum_{S\\supseteq N} \\delta_{0;S}\\right)- \\sum_{S\\nsupseteq N} \\sum_{{i,j}\\subseteq S} a_ia_j\\delta_{0;S}$.\n",
    "\n",
    "We restrict to the special case $n=2,\\underline{a}=(a,-a)$."
   ]
  },
  {
   "cell_type": "code",
   "execution_count": 10,
   "id": "7cabcb1b",
   "metadata": {},
   "outputs": [],
   "source": [
    "def torsion_class(a):\n",
    "    return  (-1+a^2)*(lambdaclass(1,1,2)+sepbdiv(0,[1,2],1,2))"
   ]
  },
  {
   "cell_type": "markdown",
   "id": "48a2f3e7",
   "metadata": {},
   "source": [
    "We can also use exact differential to compute the class as follows. If $\\mathcal{O}(ap+aq)\\simeq\\mathcal{O}$ on an elliptic curve $E$, there exists a degree $a$ covering to $\\mathbb{P}^1$ with zeros and poles only at $p$ and $q$. Generically the remaining ramification is simple.\n",
    "We can thus compute the class of $D_{\\underline{a}}$ by considering the locus of exact differentials in the stratum $\\mathcal{H}(-a-1,a-1,1,1)$ and then forgetting the two simple zeros. The degree of the pushforward map is $2$."
   ]
  },
  {
   "cell_type": "code",
   "execution_count": 11,
   "id": "ccedb834",
   "metadata": {},
   "outputs": [],
   "source": [
    "def torsion_exact(a):\n",
    "    X= Stratum([-a-1,a-1,1,1])\n",
    "    A= ExactStratum(X, [])\n",
    "    taut = A.exact_stratum_class()\n",
    "    \n",
    "    return A.pushforward(A.to_ELG(taut)).forgetful_pushforward([3,4])/2\n"
   ]
  },
  {
   "cell_type": "code",
   "execution_count": 12,
   "id": "7f8007ca",
   "metadata": {},
   "outputs": [
    {
     "name": "stdout",
     "output_type": "stream",
     "text": [
      "Avoiding blowup\n",
      "True\n",
      "Avoiding blowup\n",
      "True\n",
      "Avoiding blowup\n",
      "True\n",
      "Avoiding blowup\n",
      "True\n",
      "Avoiding blowup\n",
      "True\n",
      "Avoiding blowup\n",
      "True\n"
     ]
    }
   ],
   "source": [
    "for a in [3..8]:\n",
    "    print((torsion_class(a)-torsion_exact(a)).is_zero())\n",
    "    "
   ]
  },
  {
   "cell_type": "markdown",
   "id": "b6e16bef",
   "metadata": {},
   "source": [
    "## Non-existence of ramified coverings\n",
    "It is in general a hard problem to decide whether there exists a ramified covering $f:\\mathbb{P}^1\\to\\mathbb{P}^1$ with a given ramification profile. One of the necessary conditions is given by Riemann-Hurwitz but this codition is not sufficient. The easiest counter example is in degree $4$ with ramification $(3,1),(2,2),(2,2)$. Every other ramification profile in degree $4$ is realizable.\n",
    "We can also compute the class of the corrresponding stratum of $\\lambda$-exact differentials.\n",
    "Then the class is non-zero if and only if there exists a covering with the specified ramification profile."
   ]
  },
  {
   "cell_type": "code",
   "execution_count": 13,
   "id": "b1ddf951",
   "metadata": {},
   "outputs": [
    {
     "name": "stdout",
     "output_type": "stream",
     "text": [
      "-(D_0 + D_1 + 2*D_12 + 2*D_13 + 2*D_14 + 2*D_15 + D_2 + 3*D_20 + 3*D_21 + 3*D_22 + 3*D_23 + 3*D_24 + 3*D_25 + D_3 + D_4 + D_5 + xi)*(D_0 + 2*D_12 + 2*D_13 + 4*D_16 + 4*D_17 + 3*D_20 + 3*D_21 + 3*D_22 + 3*D_23 + 3*D_24 + 3*D_25 + 5*D_26 + 3*D_27 + 3*D_28 + 3*D_29 + 3*D_6 + xi)*(3*D_11 + 2*D_14 + 2*D_15 + 4*D_18 + 4*D_19 + 3*D_20 + 3*D_25 + 5*D_26 + 3*D_27 + D_5 + xi)\n"
     ]
    },
    {
     "data": {
      "text/plain": [
       "True"
      ]
     },
     "execution_count": 13,
     "metadata": {},
     "output_type": "execute_result"
    }
   ],
   "source": [
    "A= ExactStratum(Stratum([-4,-2,1,1,1,1]),[[0,0,1,-1,0,0],[0,0,0,0,1,-1]])\n",
    "cl = A.exact_stratum_class()\n",
    "print(cl)\n",
    "A.pushforward(A.to_ELG(cl)).is_zero()"
   ]
  },
  {
   "cell_type": "markdown",
   "id": "25921f03",
   "metadata": {},
   "source": [
    "Here is an expansion of the class in the tautological ring of $\\overline{\\mathcal{M}}_{0,6}$."
   ]
  },
  {
   "cell_type": "code",
   "execution_count": 14,
   "id": "d410ebb9",
   "metadata": {},
   "outputs": [
    {
     "data": {
      "text/plain": [
       "-3*D_0^2*D_11 - 3*D_0*D_1*D_11 - 12*D_0*D_11*D_12 - 6*D_1*D_11*D_12 - 12*D_11*D_12^2 - 12*D_0*D_11*D_13 - 6*D_1*D_11*D_13 - 24*D_11*D_12*D_13 - 12*D_11*D_13^2 - 2*D_0^2*D_14 - 2*D_0*D_1*D_14 - 6*D_0*D_11*D_14 - 8*D_0*D_12*D_14 - 4*D_1*D_12*D_14 - 12*D_11*D_12*D_14 - 8*D_12^2*D_14 - 8*D_0*D_13*D_14 - 4*D_1*D_13*D_14 - 12*D_11*D_13*D_14 - 16*D_12*D_13*D_14 - 8*D_13^2*D_14 - 4*D_0*D_14^2 - 8*D_12*D_14^2 - 8*D_13*D_14^2 - 2*D_0^2*D_15 - 2*D_0*D_1*D_15 - 6*D_0*D_11*D_15 - 8*D_0*D_12*D_15 - 4*D_1*D_12*D_15 - 12*D_11*D_12*D_15 - 8*D_12^2*D_15 - 8*D_0*D_13*D_15 - 4*D_1*D_13*D_15 - 12*D_11*D_13*D_15 - 16*D_12*D_13*D_15 - 8*D_13^2*D_15 - 8*D_0*D_14*D_15 - 16*D_12*D_14*D_15 - 16*D_13*D_14*D_15 - 4*D_0*D_15^2 - 8*D_12*D_15^2 - 8*D_13*D_15^2 - 12*D_0*D_11*D_16 - 12*D_1*D_11*D_16 - 24*D_11*D_12*D_16 - 24*D_11*D_13*D_16 - 8*D_0*D_14*D_16 - 8*D_1*D_14*D_16 - 24*D_11*D_14*D_16 - 16*D_12*D_14*D_16 - 16*D_13*D_14*D_16 - 16*D_14^2*D_16 - 8*D_0*D_15*D_16 - 8*D_1*D_15*D_16 - 24*D_11*D_15*D_16 - 16*D_12*D_15*D_16 - 16*D_13*D_15*D_16 - 32*D_14*D_15*D_16 - 16*D_15^2*D_16 - 12*D_0*D_11*D_17 - 12*D_1*D_11*D_17 - 24*D_11*D_12*D_17 - 24*D_11*D_13*D_17 - 8*D_0*D_14*D_17 - 8*D_1*D_14*D_17 - 24*D_11*D_14*D_17 - 16*D_12*D_14*D_17 - 16*D_13*D_14*D_17 - 16*D_14^2*D_17 - 8*D_0*D_15*D_17 - 8*D_1*D_15*D_17 - 24*D_11*D_15*D_17 - 16*D_12*D_15*D_17 - 16*D_13*D_15*D_17 - 32*D_14*D_15*D_17 - 16*D_15^2*D_17 - 4*D_0^2*D_18 - 4*D_0*D_1*D_18 - 16*D_0*D_12*D_18 - 8*D_1*D_12*D_18 - 16*D_12^2*D_18 - 16*D_0*D_13*D_18 - 8*D_1*D_13*D_18 - 32*D_12*D_13*D_18 - 16*D_13^2*D_18 - 8*D_0*D_14*D_18 - 16*D_12*D_14*D_18 - 16*D_13*D_14*D_18 - 8*D_0*D_15*D_18 - 16*D_12*D_15*D_18 - 16*D_13*D_15*D_18 - 16*D_0*D_16*D_18 - 16*D_1*D_16*D_18 - 32*D_12*D_16*D_18 - 32*D_13*D_16*D_18 - 32*D_14*D_16*D_18 - 32*D_15*D_16*D_18 - 16*D_0*D_17*D_18 - 16*D_1*D_17*D_18 - 32*D_12*D_17*D_18 - 32*D_13*D_17*D_18 - 32*D_14*D_17*D_18 - 32*D_15*D_17*D_18 - 4*D_0^2*D_19 - 4*D_0*D_1*D_19 - 16*D_0*D_12*D_19 - 8*D_1*D_12*D_19 - 16*D_12^2*D_19 - 16*D_0*D_13*D_19 - 8*D_1*D_13*D_19 - 32*D_12*D_13*D_19 - 16*D_13^2*D_19 - 8*D_0*D_14*D_19 - 16*D_12*D_14*D_19 - 16*D_13*D_14*D_19 - 8*D_0*D_15*D_19 - 16*D_12*D_15*D_19 - 16*D_13*D_15*D_19 - 16*D_0*D_16*D_19 - 16*D_1*D_16*D_19 - 32*D_12*D_16*D_19 - 32*D_13*D_16*D_19 - 32*D_14*D_16*D_19 - 32*D_15*D_16*D_19 - 16*D_0*D_17*D_19 - 16*D_1*D_17*D_19 - 32*D_12*D_17*D_19 - 32*D_13*D_17*D_19 - 32*D_14*D_17*D_19 - 32*D_15*D_17*D_19 - 3*D_0*D_11*D_2 - 6*D_11*D_12*D_2 - 6*D_11*D_13*D_2 - 2*D_0*D_14*D_2 - 4*D_12*D_14*D_2 - 4*D_13*D_14*D_2 - 2*D_0*D_15*D_2 - 4*D_12*D_15*D_2 - 4*D_13*D_15*D_2 - 12*D_11*D_16*D_2 - 8*D_14*D_16*D_2 - 8*D_15*D_16*D_2 - 12*D_11*D_17*D_2 - 8*D_14*D_17*D_2 - 8*D_15*D_17*D_2 - 4*D_0*D_18*D_2 - 8*D_12*D_18*D_2 - 8*D_13*D_18*D_2 - 16*D_16*D_18*D_2 - 16*D_17*D_18*D_2 - 4*D_0*D_19*D_2 - 8*D_12*D_19*D_2 - 8*D_13*D_19*D_2 - 16*D_16*D_19*D_2 - 16*D_17*D_19*D_2 - 3*D_0^2*D_20 - 3*D_0*D_1*D_20 - 18*D_0*D_11*D_20 - 9*D_1*D_11*D_20 - 12*D_0*D_12*D_20 - 6*D_1*D_12*D_20 - 36*D_11*D_12*D_20 - 12*D_12^2*D_20 - 12*D_0*D_13*D_20 - 6*D_1*D_13*D_20 - 36*D_11*D_13*D_20 - 24*D_12*D_13*D_20 - 12*D_13^2*D_20 - 18*D_0*D_14*D_20 - 6*D_1*D_14*D_20 - 18*D_11*D_14*D_20 - 36*D_12*D_14*D_20 - 36*D_13*D_14*D_20 - 12*D_14^2*D_20 - 18*D_0*D_15*D_20 - 6*D_1*D_15*D_20 - 18*D_11*D_15*D_20 - 36*D_12*D_15*D_20 - 36*D_13*D_15*D_20 - 24*D_14*D_15*D_20 - 12*D_15^2*D_20 - 12*D_0*D_16*D_20 - 12*D_1*D_16*D_20 - 36*D_11*D_16*D_20 - 24*D_12*D_16*D_20 - 24*D_13*D_16*D_20 - 48*D_14*D_16*D_20 - 48*D_15*D_16*D_20 - 12*D_0*D_17*D_20 - 12*D_1*D_17*D_20 - 36*D_11*D_17*D_20 - 24*D_12*D_17*D_20 - 24*D_13*D_17*D_20 - 48*D_14*D_17*D_20 - 48*D_15*D_17*D_20 - 24*D_0*D_18*D_20 - 12*D_1*D_18*D_20 - 48*D_12*D_18*D_20 - 48*D_13*D_18*D_20 - 24*D_14*D_18*D_20 - 24*D_15*D_18*D_20 - 48*D_16*D_18*D_20 - 48*D_17*D_18*D_20 - 24*D_0*D_19*D_20 - 12*D_1*D_19*D_20 - 48*D_12*D_19*D_20 - 48*D_13*D_19*D_20 - 24*D_14*D_19*D_20 - 24*D_15*D_19*D_20 - 48*D_16*D_19*D_20 - 48*D_17*D_19*D_20 - 3*D_0*D_2*D_20 - 9*D_11*D_2*D_20 - 6*D_12*D_2*D_20 - 6*D_13*D_2*D_20 - 6*D_14*D_2*D_20 - 6*D_15*D_2*D_20 - 12*D_16*D_2*D_20 - 12*D_17*D_2*D_20 - 12*D_18*D_2*D_20 - 12*D_19*D_2*D_20 - 18*D_0*D_20^2 - 9*D_1*D_20^2 - 27*D_11*D_20^2 - 36*D_12*D_20^2 - 36*D_13*D_20^2 - 36*D_14*D_20^2 - 36*D_15*D_20^2 - 36*D_16*D_20^2 - 36*D_17*D_20^2 - 36*D_18*D_20^2 - 36*D_19*D_20^2 - 9*D_2*D_20^2 - 27*D_20^3 - 18*D_0*D_11*D_21 - 9*D_1*D_11*D_21 - 36*D_11*D_12*D_21 - 36*D_11*D_13*D_21 - 12*D_0*D_14*D_21 - 6*D_1*D_14*D_21 - 18*D_11*D_14*D_21 - 24*D_12*D_14*D_21 - 24*D_13*D_14*D_21 - 12*D_14^2*D_21 - 12*D_0*D_15*D_21 - 6*D_1*D_15*D_21 - 18*D_11*D_15*D_21 - 24*D_12*D_15*D_21 - 24*D_13*D_15*D_21 - 24*D_14*D_15*D_21 - 12*D_15^2*D_21 - 36*D_11*D_16*D_21 - 24*D_14*D_16*D_21 - 24*D_15*D_16*D_21 - 36*D_11*D_17*D_21 - 24*D_14*D_17*D_21 - 24*D_15*D_17*D_21 - 24*D_0*D_18*D_21 - 12*D_1*D_18*D_21 - 48*D_12*D_18*D_21 - 48*D_13*D_18*D_21 - 24*D_14*D_18*D_21 - 24*D_15*D_18*D_21 - 48*D_16*D_18*D_21 - 48*D_17*D_18*D_21 - 24*D_0*D_19*D_21 - 12*D_1*D_19*D_21 - 48*D_12*D_19*D_21 - 48*D_13*D_19*D_21 - 24*D_14*D_19*D_21 - 24*D_15*D_19*D_21 - 48*D_16*D_19*D_21 - 48*D_17*D_19*D_21 - 9*D_11*D_2*D_21 - 6*D_14*D_2*D_21 - 6*D_15*D_2*D_21 - 12*D_18*D_2*D_21 - 12*D_19*D_2*D_21 - 18*D_0*D_20*D_21 - 9*D_1*D_20*D_21 - 54*D_11*D_20*D_21 - 36*D_12*D_20*D_21 - 36*D_13*D_20*D_21 - 54*D_14*D_20*D_21 - 54*D_15*D_20*D_21 - 36*D_16*D_20*D_21 - 36*D_17*D_20*D_21 - 72*D_18*D_20*D_21 - 72*D_19*D_20*D_21 - 9*D_2*D_20*D_21 - 54*D_20^2*D_21 - 27*D_11*D_21^2 - 18*D_14*D_21^2 - 18*D_15*D_21^2 - 36*D_18*D_21^2 - 36*D_19*D_21^2 - 27*D_20*D_21^2 - 18*D_0*D_11*D_22 - 9*D_1*D_11*D_22 - 36*D_11*D_12*D_22 - 36*D_11*D_13*D_22 - 12*D_0*D_14*D_22 - 6*D_1*D_14*D_22 - 18*D_11*D_14*D_22 - 24*D_12*D_14*D_22 - 24*D_13*D_14*D_22 - 12*D_14^2*D_22 - 12*D_0*D_15*D_22 - 6*D_1*D_15*D_22 - 18*D_11*D_15*D_22 - 24*D_12*D_15*D_22 - 24*D_13*D_15*D_22 - 24*D_14*D_15*D_22 - 12*D_15^2*D_22 - 36*D_11*D_16*D_22 - 24*D_14*D_16*D_22 - 24*D_15*D_16*D_22 - 36*D_11*D_17*D_22 - 24*D_14*D_17*D_22 - 24*D_15*D_17*D_22 - 24*D_0*D_18*D_22 - 12*D_1*D_18*D_22 - 48*D_12*D_18*D_22 - 48*D_13*D_18*D_22 - 24*D_14*D_18*D_22 - 24*D_15*D_18*D_22 - 48*D_16*D_18*D_22 - 48*D_17*D_18*D_22 - 24*D_0*D_19*D_22 - 12*D_1*D_19*D_22 - 48*D_12*D_19*D_22 - 48*D_13*D_19*D_22 - 24*D_14*D_19*D_22 - 24*D_15*D_19*D_22 - 48*D_16*D_19*D_22 - 48*D_17*D_19*D_22 - 9*D_11*D_2*D_22 - 6*D_14*D_2*D_22 - 6*D_15*D_2*D_22 - 12*D_18*D_2*D_22 - 12*D_19*D_2*D_22 - 18*D_0*D_20*D_22 - 9*D_1*D_20*D_22 - 54*D_11*D_20*D_22 - 36*D_12*D_20*D_22 - 36*D_13*D_20*D_22 - 54*D_14*D_20*D_22 - 54*D_15*D_20*D_22 - 36*D_16*D_20*D_22 - 36*D_17*D_20*D_22 - 72*D_18*D_20*D_22 - 72*D_19*D_20*D_22 - 9*D_2*D_20*D_22 - 54*D_20^2*D_22 - 54*D_11*D_21*D_22 - 36*D_14*D_21*D_22 - 36*D_15*D_21*D_22 - 72*D_18*D_21*D_22 - 72*D_19*D_21*D_22 - 54*D_20*D_21*D_22 - 27*D_11*D_22^2 - 18*D_14*D_22^2 - 18*D_15*D_22^2 - 36*D_18*D_22^2 - 36*D_19*D_22^2 - 27*D_20*D_22^2 - 18*D_0*D_11*D_23 - 9*D_1*D_11*D_23 - 36*D_11*D_12*D_23 - 36*D_11*D_13*D_23 - 12*D_0*D_14*D_23 - 6*D_1*D_14*D_23 - 18*D_11*D_14*D_23 - 24*D_12*D_14*D_23 - 24*D_13*D_14*D_23 - 12*D_14^2*D_23 - 12*D_0*D_15*D_23 - 6*D_1*D_15*D_23 - 18*D_11*D_15*D_23 - 24*D_12*D_15*D_23 - 24*D_13*D_15*D_23 - 24*D_14*D_15*D_23 - 12*D_15^2*D_23 - 36*D_11*D_16*D_23 - 24*D_14*D_16*D_23 - 24*D_15*D_16*D_23 - 36*D_11*D_17*D_23 - 24*D_14*D_17*D_23 - 24*D_15*D_17*D_23 - 24*D_0*D_18*D_23 - 12*D_1*D_18*D_23 - 48*D_12*D_18*D_23 - 48*D_13*D_18*D_23 - 24*D_14*D_18*D_23 - 24*D_15*D_18*D_23 - 48*D_16*D_18*D_23 - 48*D_17*D_18*D_23 - 24*D_0*D_19*D_23 - 12*D_1*D_19*D_23 - 48*D_12*D_19*D_23 - 48*D_13*D_19*D_23 - 24*D_14*D_19*D_23 - 24*D_15*D_19*D_23 - 48*D_16*D_19*D_23 - 48*D_17*D_19*D_23 - 9*D_11*D_2*D_23 - 6*D_14*D_2*D_23 - 6*D_15*D_2*D_23 - 12*D_18*D_2*D_23 - 12*D_19*D_2*D_23 - 18*D_0*D_20*D_23 - 9*D_1*D_20*D_23 - 54*D_11*D_20*D_23 - 36*D_12*D_20*D_23 - 36*D_13*D_20*D_23 - 54*D_14*D_20*D_23 - 54*D_15*D_20*D_23 - 36*D_16*D_20*D_23 - 36*D_17*D_20*D_23 - 72*D_18*D_20*D_23 - 72*D_19*D_20*D_23 - 9*D_2*D_20*D_23 - 54*D_20^2*D_23 - 54*D_11*D_21*D_23 - 36*D_14*D_21*D_23 - 36*D_15*D_21*D_23 - 72*D_18*D_21*D_23 - 72*D_19*D_21*D_23 - 54*D_20*D_21*D_23 - 54*D_11*D_22*D_23 - 36*D_14*D_22*D_23 - 36*D_15*D_22*D_23 - 72*D_18*D_22*D_23 - 72*D_19*D_22*D_23 - 54*D_20*D_22*D_23 - 27*D_11*D_23^2 - 18*D_14*D_23^2 - 18*D_15*D_23^2 - 36*D_18*D_23^2 - 36*D_19*D_23^2 - 27*D_20*D_23^2 - 18*D_0*D_11*D_24 - 9*D_1*D_11*D_24 - 36*D_11*D_12*D_24 - 36*D_11*D_13*D_24 - 12*D_0*D_14*D_24 - 6*D_1*D_14*D_24 - 18*D_11*D_14*D_24 - 24*D_12*D_14*D_24 - 24*D_13*D_14*D_24 - 12*D_14^2*D_24 - 12*D_0*D_15*D_24 - 6*D_1*D_15*D_24 - 18*D_11*D_15*D_24 - 24*D_12*D_15*D_24 - 24*D_13*D_15*D_24 - 24*D_14*D_15*D_24 - 12*D_15^2*D_24 - 36*D_11*D_16*D_24 - 24*D_14*D_16*D_24 - 24*D_15*D_16*D_24 - 36*D_11*D_17*D_24 - 24*D_14*D_17*D_24 - 24*D_15*D_17*D_24 - 24*D_0*D_18*D_24 - 12*D_1*D_18*D_24 - 48*D_12*D_18*D_24 - 48*D_13*D_18*D_24 - 24*D_14*D_18*D_24 - 24*D_15*D_18*D_24 - 48*D_16*D_18*D_24 - 48*D_17*D_18*D_24 - 24*D_0*D_19*D_24 - 12*D_1*D_19*D_24 - 48*D_12*D_19*D_24 - 48*D_13*D_19*D_24 - 24*D_14*D_19*D_24 - 24*D_15*D_19*D_24 - 48*D_16*D_19*D_24 - 48*D_17*D_19*D_24 - 9*D_11*D_2*D_24 - 6*D_14*D_2*D_24 - 6*D_15*D_2*D_24 - 12*D_18*D_2*D_24 - 12*D_19*D_2*D_24 - 18*D_0*D_20*D_24 - 9*D_1*D_20*D_24 - 54*D_11*D_20*D_24 - 36*D_12*D_20*D_24 - 36*D_13*D_20*D_24 - 54*D_14*D_20*D_24 - 54*D_15*D_20*D_24 - 36*D_16*D_20*D_24 - 36*D_17*D_20*D_24 - 72*D_18*D_20*D_24 - 72*D_19*D_20*D_24 - 9*D_2*D_20*D_24 - 54*D_20^2*D_24 - 54*D_11*D_21*D_24 - 36*D_14*D_21*D_24 - 36*D_15*D_21*D_24 - 72*D_18*D_21*D_24 - 72*D_19*D_21*D_24 - 54*D_20*D_21*D_24 - 54*D_11*D_22*D_24 - 36*D_14*D_22*D_24 - 36*D_15*D_22*D_24 - 72*D_18*D_22*D_24 - 72*D_19*D_22*D_24 - 54*D_20*D_22*D_24 - 54*D_11*D_23*D_24 - 36*D_14*D_23*D_24 - 36*D_15*D_23*D_24 - 72*D_18*D_23*D_24 - 72*D_19*D_23*D_24 - 54*D_20*D_23*D_24 - 27*D_11*D_24^2 - 18*D_14*D_24^2 - 18*D_15*D_24^2 - 36*D_18*D_24^2 - 36*D_19*D_24^2 - 27*D_20*D_24^2 - 3*D_0^2*D_25 - 3*D_0*D_1*D_25 - 18*D_0*D_11*D_25 - 9*D_1*D_11*D_25 - 12*D_0*D_12*D_25 - 6*D_1*D_12*D_25 - 36*D_11*D_12*D_25 - 12*D_12^2*D_25 - 12*D_0*D_13*D_25 - 6*D_1*D_13*D_25 - 36*D_11*D_13*D_25 - 24*D_12*D_13*D_25 - 12*D_13^2*D_25 - 18*D_0*D_14*D_25 - 6*D_1*D_14*D_25 - 18*D_11*D_14*D_25 - 36*D_12*D_14*D_25 - 36*D_13*D_14*D_25 - 12*D_14^2*D_25 - 18*D_0*D_15*D_25 - 6*D_1*D_15*D_25 - 18*D_11*D_15*D_25 - 36*D_12*D_15*D_25 - 36*D_13*D_15*D_25 - 24*D_14*D_15*D_25 - 12*D_15^2*D_25 - 12*D_0*D_16*D_25 - 12*D_1*D_16*D_25 - 36*D_11*D_16*D_25 - 24*D_12*D_16*D_25 - 24*D_13*D_16*D_25 - 48*D_14*D_16*D_25 - 48*D_15*D_16*D_25 - 12*D_0*D_17*D_25 - 12*D_1*D_17*D_25 - 36*D_11*D_17*D_25 - 24*D_12*D_17*D_25 - 24*D_13*D_17*D_25 - 48*D_14*D_17*D_25 - 48*D_15*D_17*D_25 - 24*D_0*D_18*D_25 - 12*D_1*D_18*D_25 - 48*D_12*D_18*D_25 - 48*D_13*D_18*D_25 - 24*D_14*D_18*D_25 - 24*D_15*D_18*D_25 - 48*D_16*D_18*D_25 - 48*D_17*D_18*D_25 - 24*D_0*D_19*D_25 - 12*D_1*D_19*D_25 - 48*D_12*D_19*D_25 - 48*D_13*D_19*D_25 - 24*D_14*D_19*D_25 - 24*D_15*D_19*D_25 - 48*D_16*D_19*D_25 - 48*D_17*D_19*D_25 - 3*D_0*D_2*D_25 - 9*D_11*D_2*D_25 - 6*D_12*D_2*D_25 - 6*D_13*D_2*D_25 - 6*D_14*D_2*D_25 - 6*D_15*D_2*D_25 - 12*D_16*D_2*D_25 - 12*D_17*D_2*D_25 - 12*D_18*D_2*D_25 - 12*D_19*D_2*D_25 - 36*D_0*D_20*D_25 - 18*D_1*D_20*D_25 - 54*D_11*D_20*D_25 - 72*D_12*D_20*D_25 - 72*D_13*D_20*D_25 - 72*D_14*D_20*D_25 - 72*D_15*D_20*D_25 - 72*D_16*D_20*D_25 - 72*D_17*D_20*D_25 - 72*D_18*D_20*D_25 - 72*D_19*D_20*D_25 - 18*D_2*D_20*D_25 - 81*D_20^2*D_25 - 18*D_0*D_21*D_25 - 9*D_1*D_21*D_25 - 54*D_11*D_21*D_25 - 36*D_12*D_21*D_25 - 36*D_13*D_21*D_25 - 54*D_14*D_21*D_25 - 54*D_15*D_21*D_25 - 36*D_16*D_21*D_25 - 36*D_17*D_21*D_25 - 72*D_18*D_21*D_25 - 72*D_19*D_21*D_25 - 9*D_2*D_21*D_25 - 108*D_20*D_21*D_25 - 27*D_21^2*D_25 - 18*D_0*D_22*D_25 - 9*D_1*D_22*D_25 - 54*D_11*D_22*D_25 - 36*D_12*D_22*D_25 - 36*D_13*D_22*D_25 - 54*D_14*D_22*D_25 - 54*D_15*D_22*D_25 - 36*D_16*D_22*D_25 - 36*D_17*D_22*D_25 - 72*D_18*D_22*D_25 - 72*D_19*D_22*D_25 - 9*D_2*D_22*D_25 - 108*D_20*D_22*D_25 - 54*D_21*D_22*D_25 - 27*D_22^2*D_25 - 18*D_0*D_23*D_25 - 9*D_1*D_23*D_25 - 54*D_11*D_23*D_25 - 36*D_12*D_23*D_25 - 36*D_13*D_23*D_25 - 54*D_14*D_23*D_25 - 54*D_15*D_23*D_25 - 36*D_16*D_23*D_25 - 36*D_17*D_23*D_25 - 72*D_18*D_23*D_25 - 72*D_19*D_23*D_25 - 9*D_2*D_23*D_25 - 108*D_20*D_23*D_25 - 54*D_21*D_23*D_25 - 54*D_22*D_23*D_25 - 27*D_23^2*D_25 - 18*D_0*D_24*D_25 - 9*D_1*D_24*D_25 - 54*D_11*D_24*D_25 - 36*D_12*D_24*D_25 - 36*D_13*D_24*D_25 - 54*D_14*D_24*D_25 - 54*D_15*D_24*D_25 - 36*D_16*D_24*D_25 - 36*D_17*D_24*D_25 - 72*D_18*D_24*D_25 - 72*D_19*D_24*D_25 - 9*D_2*D_24*D_25 - 108*D_20*D_24*D_25 - 54*D_21*D_24*D_25 - 54*D_22*D_24*D_25 - 54*D_23*D_24*D_25 - 27*D_24^2*D_25 - 18*D_0*D_25^2 - 9*D_1*D_25^2 - 27*D_11*D_25^2 - 36*D_12*D_25^2 - 36*D_13*D_25^2 - 36*D_14*D_25^2 - 36*D_15*D_25^2 - 36*D_16*D_25^2 - 36*D_17*D_25^2 - 36*D_18*D_25^2 - 36*D_19*D_25^2 - 9*D_2*D_25^2 - 81*D_20*D_25^2 - 54*D_21*D_25^2 - 54*D_22*D_25^2 - 54*D_23*D_25^2 - 54*D_24*D_25^2 - 27*D_25^3 - 5*D_0^2*D_26 - 5*D_0*D_1*D_26 - 15*D_0*D_11*D_26 - 15*D_1*D_11*D_26 - 20*D_0*D_12*D_26 - 10*D_1*D_12*D_26 - 30*D_11*D_12*D_26 - 20*D_12^2*D_26 - 20*D_0*D_13*D_26 - 10*D_1*D_13*D_26 - 30*D_11*D_13*D_26 - 40*D_12*D_13*D_26 - 20*D_13^2*D_26 - 20*D_0*D_14*D_26 - 10*D_1*D_14*D_26 - 30*D_11*D_14*D_26 - 40*D_12*D_14*D_26 - 40*D_13*D_14*D_26 - 20*D_14^2*D_26 - 20*D_0*D_15*D_26 - 10*D_1*D_15*D_26 - 30*D_11*D_15*D_26 - 40*D_12*D_15*D_26 - 40*D_13*D_15*D_26 - 40*D_14*D_15*D_26 - 20*D_15^2*D_26 - 20*D_0*D_16*D_26 - 20*D_1*D_16*D_26 - 40*D_12*D_16*D_26 - 40*D_13*D_16*D_26 - 40*D_14*D_16*D_26 - 40*D_15*D_16*D_26 - 20*D_0*D_17*D_26 - 20*D_1*D_17*D_26 - 40*D_12*D_17*D_26 - 40*D_13*D_17*D_26 - 40*D_14*D_17*D_26 - 40*D_15*D_17*D_26 - 20*D_0*D_18*D_26 - 20*D_1*D_18*D_26 - 40*D_12*D_18*D_26 - 40*D_13*D_18*D_26 - 40*D_14*D_18*D_26 - 40*D_15*D_18*D_26 - 20*D_0*D_19*D_26 - 20*D_1*D_19*D_26 - 40*D_12*D_19*D_26 - 40*D_13*D_19*D_26 - 40*D_14*D_19*D_26 - 40*D_15*D_19*D_26 - 5*D_0*D_2*D_26 - 15*D_11*D_2*D_26 - 10*D_12*D_2*D_26 - 10*D_13*D_2*D_26 - 10*D_14*D_2*D_26 - 10*D_15*D_2*D_26 - 20*D_16*D_2*D_26 - 20*D_17*D_2*D_26 - 20*D_18*D_2*D_26 - 20*D_19*D_2*D_26 - 45*D_0*D_20*D_26 - 30*D_1*D_20*D_26 - 45*D_11*D_20*D_26 - 90*D_12*D_20*D_26 - 90*D_13*D_20*D_26 - 90*D_14*D_20*D_26 - 90*D_15*D_20*D_26 - 60*D_16*D_20*D_26 - 60*D_17*D_20*D_26 - 60*D_18*D_20*D_26 - 60*D_19*D_20*D_26 - 30*D_2*D_20*D_26 - 90*D_20^2*D_26 - 30*D_0*D_21*D_26 - 15*D_1*D_21*D_26 - 45*D_11*D_21*D_26 - 60*D_12*D_21*D_26 - 60*D_13*D_21*D_26 - 60*D_14*D_21*D_26 - 60*D_15*D_21*D_26 - 60*D_16*D_21*D_26 - 60*D_17*D_21*D_26 - 60*D_18*D_21*D_26 - 60*D_19*D_21*D_26 - 15*D_2*D_21*D_26 - 135*D_20*D_21*D_26 - 45*D_21^2*D_26 - 30*D_0*D_22*D_26 - 15*D_1*D_22*D_26 - 45*D_11*D_22*D_26 - 60*D_12*D_22*D_26 - 60*D_13*D_22*D_26 - 60*D_14*D_22*D_26 - 60*D_15*D_22*D_26 - 60*D_16*D_22*D_26 - 60*D_17*D_22*D_26 - 60*D_18*D_22*D_26 - 60*D_19*D_22*D_26 - 15*D_2*D_22*D_26 - 135*D_20*D_22*D_26 - 90*D_21*D_22*D_26 - 45*D_22^2*D_26 - 30*D_0*D_23*D_26 - 15*D_1*D_23*D_26 - 45*D_11*D_23*D_26 - 60*D_12*D_23*D_26 - 60*D_13*D_23*D_26 - 60*D_14*D_23*D_26 - 60*D_15*D_23*D_26 - 60*D_16*D_23*D_26 - 60*D_17*D_23*D_26 - 60*D_18*D_23*D_26 - 60*D_19*D_23*D_26 - 15*D_2*D_23*D_26 - 135*D_20*D_23*D_26 - 90*D_21*D_23*D_26 - 90*D_22*D_23*D_26 - 45*D_23^2*D_26 - 30*D_0*D_24*D_26 - 15*D_1*D_24*D_26 - 45*D_11*D_24*D_26 - 60*D_12*D_24*D_26 - 60*D_13*D_24*D_26 - 60*D_14*D_24*D_26 - 60*D_15*D_24*D_26 - 60*D_16*D_24*D_26 - 60*D_17*D_24*D_26 - 60*D_18*D_24*D_26 - 60*D_19*D_24*D_26 - 15*D_2*D_24*D_26 - 135*D_20*D_24*D_26 - 90*D_21*D_24*D_26 - 90*D_22*D_24*D_26 - 90*D_23*D_24*D_26 - 45*D_24^2*D_26 - 45*D_0*D_25*D_26 - 30*D_1*D_25*D_26 - 45*D_11*D_25*D_26 - 90*D_12*D_25*D_26 - 90*D_13*D_25*D_26 - 90*D_14*D_25*D_26 - 90*D_15*D_25*D_26 - 60*D_16*D_25*D_26 - 60*D_17*D_25*D_26 - 60*D_18*D_25*D_26 - 60*D_19*D_25*D_26 - 30*D_2*D_25*D_26 - 180*D_20*D_25*D_26 - 135*D_21*D_25*D_26 - 135*D_22*D_25*D_26 - 135*D_23*D_25*D_26 - 135*D_24*D_25*D_26 - 90*D_25^2*D_26 - 25*D_0*D_26^2 - 25*D_1*D_26^2 - 50*D_12*D_26^2 - 50*D_13*D_26^2 - 50*D_14*D_26^2 - 50*D_15*D_26^2 - 25*D_2*D_26^2 - 75*D_20*D_26^2 - 75*D_21*D_26^2 - 75*D_22*D_26^2 - 75*D_23*D_26^2 - 75*D_24*D_26^2 - 75*D_25*D_26^2 - 3*D_0^2*D_27 - 3*D_0*D_1*D_27 - 9*D_0*D_11*D_27 - 9*D_1*D_11*D_27 - 12*D_0*D_12*D_27 - 6*D_1*D_12*D_27 - 18*D_11*D_12*D_27 - 12*D_12^2*D_27 - 12*D_0*D_13*D_27 - 6*D_1*D_13*D_27 - 18*D_11*D_13*D_27 - 24*D_12*D_13*D_27 - 12*D_13^2*D_27 - 12*D_0*D_14*D_27 - 6*D_1*D_14*D_27 - 18*D_11*D_14*D_27 - 24*D_12*D_14*D_27 - 24*D_13*D_14*D_27 - 12*D_14^2*D_27 - 12*D_0*D_15*D_27 - 6*D_1*D_15*D_27 - 18*D_11*D_15*D_27 - 24*D_12*D_15*D_27 - 24*D_13*D_15*D_27 - 24*D_14*D_15*D_27 - 12*D_15^2*D_27 - 12*D_0*D_16*D_27 - 12*D_1*D_16*D_27 - 24*D_12*D_16*D_27 - 24*D_13*D_16*D_27 - 24*D_14*D_16*D_27 - 24*D_15*D_16*D_27 - 12*D_0*D_17*D_27 - 12*D_1*D_17*D_27 - 24*D_12*D_17*D_27 - 24*D_13*D_17*D_27 - 24*D_14*D_17*D_27 - 24*D_15*D_17*D_27 - 12*D_0*D_18*D_27 - 12*D_1*D_18*D_27 - 24*D_12*D_18*D_27 - 24*D_13*D_18*D_27 - 24*D_14*D_18*D_27 - 24*D_15*D_18*D_27 - 12*D_0*D_19*D_27 - 12*D_1*D_19*D_27 - 24*D_12*D_19*D_27 - 24*D_13*D_19*D_27 - 24*D_14*D_19*D_27 - 24*D_15*D_19*D_27 - 3*D_0*D_2*D_27 - 9*D_11*D_2*D_27 - 6*D_12*D_2*D_27 - 6*D_13*D_2*D_27 - 6*D_14*D_2*D_27 - 6*D_15*D_2*D_27 - 12*D_16*D_2*D_27 - 12*D_17*D_2*D_27 - 12*D_18*D_2*D_27 - 12*D_19*D_2*D_27 - 27*D_0*D_20*D_27 - 18*D_1*D_20*D_27 - 27*D_11*D_20*D_27 - 54*D_12*D_20*D_27 - 54*D_13*D_20*D_27 - 54*D_14*D_20*D_27 - 54*D_15*D_20*D_27 - 36*D_16*D_20*D_27 - 36*D_17*D_20*D_27 - 36*D_18*D_20*D_27 - 36*D_19*D_20*D_27 - 18*D_2*D_20*D_27 - 54*D_20^2*D_27 - 18*D_0*D_21*D_27 - 9*D_1*D_21*D_27 - 27*D_11*D_21*D_27 - 36*D_12*D_21*D_27 - 36*D_13*D_21*D_27 - 36*D_14*D_21*D_27 - 36*D_15*D_21*D_27 - 36*D_16*D_21*D_27 - 36*D_17*D_21*D_27 - 36*D_18*D_21*D_27 - 36*D_19*D_21*D_27 - 9*D_2*D_21*D_27 - 81*D_20*D_21*D_27 - 27*D_21^2*D_27 - 18*D_0*D_22*D_27 - 9*D_1*D_22*D_27 - 27*D_11*D_22*D_27 - 36*D_12*D_22*D_27 - 36*D_13*D_22*D_27 - 36*D_14*D_22*D_27 - 36*D_15*D_22*D_27 - 36*D_16*D_22*D_27 - 36*D_17*D_22*D_27 - 36*D_18*D_22*D_27 - 36*D_19*D_22*D_27 - 9*D_2*D_22*D_27 - 81*D_20*D_22*D_27 - 54*D_21*D_22*D_27 - 27*D_22^2*D_27 - 18*D_0*D_23*D_27 - 9*D_1*D_23*D_27 - 27*D_11*D_23*D_27 - 36*D_12*D_23*D_27 - 36*D_13*D_23*D_27 - 36*D_14*D_23*D_27 - 36*D_15*D_23*D_27 - 36*D_16*D_23*D_27 - 36*D_17*D_23*D_27 - 36*D_18*D_23*D_27 - 36*D_19*D_23*D_27 - 9*D_2*D_23*D_27 - 81*D_20*D_23*D_27 - 54*D_21*D_23*D_27 - 54*D_22*D_23*D_27 - 27*D_23^2*D_27 - 18*D_0*D_24*D_27 - 9*D_1*D_24*D_27 - 27*D_11*D_24*D_27 - 36*D_12*D_24*D_27 - 36*D_13*D_24*D_27 - 36*D_14*D_24*D_27 - 36*D_15*D_24*D_27 - 36*D_16*D_24*D_27 - 36*D_17*D_24*D_27 - 36*D_18*D_24*D_27 - 36*D_19*D_24*D_27 - 9*D_2*D_24*D_27 - 81*D_20*D_24*D_27 - 54*D_21*D_24*D_27 - 54*D_22*D_24*D_27 - 54*D_23*D_24*D_27 - 27*D_24^2*D_27 - 27*D_0*D_25*D_27 - 18*D_1*D_25*D_27 - 27*D_11*D_25*D_27 - 54*D_12*D_25*D_27 - 54*D_13*D_25*D_27 - 54*D_14*D_25*D_27 - 54*D_15*D_25*D_27 - 36*D_16*D_25*D_27 - 36*D_17*D_25*D_27 - 36*D_18*D_25*D_27 - 36*D_19*D_25*D_27 - 18*D_2*D_25*D_27 - 108*D_20*D_25*D_27 - 81*D_21*D_25*D_27 - 81*D_22*D_25*D_27 - 81*D_23*D_25*D_27 - 81*D_24*D_25*D_27 - 54*D_25^2*D_27 - 30*D_0*D_26*D_27 - 30*D_1*D_26*D_27 - 60*D_12*D_26*D_27 - 60*D_13*D_26*D_27 - 60*D_14*D_26*D_27 - 60*D_15*D_26*D_27 - 30*D_2*D_26*D_27 - 90*D_20*D_26*D_27 - 90*D_21*D_26*D_27 - 90*D_22*D_26*D_27 - 90*D_23*D_26*D_27 - 90*D_24*D_26*D_27 - 90*D_25*D_26*D_27 - 9*D_0*D_27^2 - 9*D_1*D_27^2 - 18*D_12*D_27^2 - 18*D_13*D_27^2 - 18*D_14*D_27^2 - 18*D_15*D_27^2 - 9*D_2*D_27^2 - 27*D_20*D_27^2 - 27*D_21*D_27^2 - 27*D_22*D_27^2 - 27*D_23*D_27^2 - 27*D_24*D_27^2 - 27*D_25*D_27^2 - 9*D_0*D_11*D_28 - 9*D_1*D_11*D_28 - 18*D_11*D_12*D_28 - 18*D_11*D_13*D_28 - 6*D_0*D_14*D_28 - 6*D_1*D_14*D_28 - 18*D_11*D_14*D_28 - 12*D_12*D_14*D_28 - 12*D_13*D_14*D_28 - 12*D_14^2*D_28 - 6*D_0*D_15*D_28 - 6*D_1*D_15*D_28 - 18*D_11*D_15*D_28 - 12*D_12*D_15*D_28 - 12*D_13*D_15*D_28 - 24*D_14*D_15*D_28 - 12*D_15^2*D_28 - 12*D_0*D_18*D_28 - 12*D_1*D_18*D_28 - 24*D_12*D_18*D_28 - 24*D_13*D_18*D_28 - 24*D_14*D_18*D_28 - 24*D_15*D_18*D_28 - 12*D_0*D_19*D_28 - 12*D_1*D_19*D_28 - 24*D_12*D_19*D_28 - 24*D_13*D_19*D_28 - 24*D_14*D_19*D_28 - 24*D_15*D_19*D_28 - 9*D_11*D_2*D_28 - 6*D_14*D_2*D_28 - 6*D_15*D_2*D_28 - 12*D_18*D_2*D_28 - 12*D_19*D_2*D_28 - 9*D_0*D_20*D_28 - 9*D_1*D_20*D_28 - 27*D_11*D_20*D_28 - 18*D_12*D_20*D_28 - 18*D_13*D_20*D_28 - 36*D_14*D_20*D_28 - 36*D_15*D_20*D_28 - 36*D_18*D_20*D_28 - 36*D_19*D_20*D_28 - 9*D_2*D_20*D_28 - 27*D_20^2*D_28 - 27*D_11*D_21*D_28 - 18*D_14*D_21*D_28 - 18*D_15*D_21*D_28 - 36*D_18*D_21*D_28 - 36*D_19*D_21*D_28 - 27*D_20*D_21*D_28 - 27*D_11*D_22*D_28 - 18*D_14*D_22*D_28 - 18*D_15*D_22*D_28 - 36*D_18*D_22*D_28 - 36*D_19*D_22*D_28 - 27*D_20*D_22*D_28 - 27*D_11*D_23*D_28 - 18*D_14*D_23*D_28 - 18*D_15*D_23*D_28 - 36*D_18*D_23*D_28 - 36*D_19*D_23*D_28 - 27*D_20*D_23*D_28 - 27*D_11*D_24*D_28 - 18*D_14*D_24*D_28 - 18*D_15*D_24*D_28 - 36*D_18*D_24*D_28 - 36*D_19*D_24*D_28 - 27*D_20*D_24*D_28 - 9*D_0*D_25*D_28 - 9*D_1*D_25*D_28 - 27*D_11*D_25*D_28 - 18*D_12*D_25*D_28 - 18*D_13*D_25*D_28 - 36*D_14*D_25*D_28 - 36*D_15*D_25*D_28 - 36*D_18*D_25*D_28 - 36*D_19*D_25*D_28 - 9*D_2*D_25*D_28 - 54*D_20*D_25*D_28 - 27*D_21*D_25*D_28 - 27*D_22*D_25*D_28 - 27*D_23*D_25*D_28 - 27*D_24*D_25*D_28 - 27*D_25^2*D_28 - 15*D_0*D_26*D_28 - 15*D_1*D_26*D_28 - 30*D_12*D_26*D_28 - 30*D_13*D_26*D_28 - 30*D_14*D_26*D_28 - 30*D_15*D_26*D_28 - 15*D_2*D_26*D_28 - 45*D_20*D_26*D_28 - 45*D_21*D_26*D_28 - 45*D_22*D_26*D_28 - 45*D_23*D_26*D_28 - 45*D_24*D_26*D_28 - 45*D_25*D_26*D_28 - 9*D_0*D_27*D_28 - 9*D_1*D_27*D_28 - 18*D_12*D_27*D_28 - 18*D_13*D_27*D_28 - 18*D_14*D_27*D_28 - 18*D_15*D_27*D_28 - 9*D_2*D_27*D_28 - 27*D_20*D_27*D_28 - 27*D_21*D_27*D_28 - 27*D_22*D_27*D_28 - 27*D_23*D_27*D_28 - 27*D_24*D_27*D_28 - 27*D_25*D_27*D_28 - 9*D_0*D_11*D_29 - 9*D_1*D_11*D_29 - 18*D_11*D_12*D_29 - 18*D_11*D_13*D_29 - 6*D_0*D_14*D_29 - 6*D_1*D_14*D_29 - 18*D_11*D_14*D_29 - 12*D_12*D_14*D_29 - 12*D_13*D_14*D_29 - 12*D_14^2*D_29 - 6*D_0*D_15*D_29 - 6*D_1*D_15*D_29 - 18*D_11*D_15*D_29 - 12*D_12*D_15*D_29 - 12*D_13*D_15*D_29 - 24*D_14*D_15*D_29 - 12*D_15^2*D_29 - 12*D_0*D_18*D_29 - 12*D_1*D_18*D_29 - 24*D_12*D_18*D_29 - 24*D_13*D_18*D_29 - 24*D_14*D_18*D_29 - 24*D_15*D_18*D_29 - 12*D_0*D_19*D_29 - 12*D_1*D_19*D_29 - 24*D_12*D_19*D_29 - 24*D_13*D_19*D_29 - 24*D_14*D_19*D_29 - 24*D_15*D_19*D_29 - 9*D_11*D_2*D_29 - 6*D_14*D_2*D_29 - 6*D_15*D_2*D_29 - 12*D_18*D_2*D_29 - 12*D_19*D_2*D_29 - 9*D_0*D_20*D_29 - 9*D_1*D_20*D_29 - 27*D_11*D_20*D_29 - 18*D_12*D_20*D_29 - 18*D_13*D_20*D_29 - 36*D_14*D_20*D_29 - 36*D_15*D_20*D_29 - 36*D_18*D_20*D_29 - 36*D_19*D_20*D_29 - 9*D_2*D_20*D_29 - 27*D_20^2*D_29 - 27*D_11*D_21*D_29 - 18*D_14*D_21*D_29 - 18*D_15*D_21*D_29 - 36*D_18*D_21*D_29 - 36*D_19*D_21*D_29 - 27*D_20*D_21*D_29 - 27*D_11*D_22*D_29 - 18*D_14*D_22*D_29 - 18*D_15*D_22*D_29 - 36*D_18*D_22*D_29 - 36*D_19*D_22*D_29 - 27*D_20*D_22*D_29 - 27*D_11*D_23*D_29 - 18*D_14*D_23*D_29 - 18*D_15*D_23*D_29 - 36*D_18*D_23*D_29 - 36*D_19*D_23*D_29 - 27*D_20*D_23*D_29 - 27*D_11*D_24*D_29 - 18*D_14*D_24*D_29 - 18*D_15*D_24*D_29 - 36*D_18*D_24*D_29 - 36*D_19*D_24*D_29 - 27*D_20*D_24*D_29 - 9*D_0*D_25*D_29 - 9*D_1*D_25*D_29 - 27*D_11*D_25*D_29 - 18*D_12*D_25*D_29 - 18*D_13*D_25*D_29 - 36*D_14*D_25*D_29 - 36*D_15*D_25*D_29 - 36*D_18*D_25*D_29 - 36*D_19*D_25*D_29 - 9*D_2*D_25*D_29 - 54*D_20*D_25*D_29 - 27*D_21*D_25*D_29 - 27*D_22*D_25*D_29 - 27*D_23*D_25*D_29 - 27*D_24*D_25*D_29 - 27*D_25^2*D_29 - 15*D_0*D_26*D_29 - 15*D_1*D_26*D_29 - 30*D_12*D_26*D_29 - 30*D_13*D_26*D_29 - 30*D_14*D_26*D_29 - 30*D_15*D_26*D_29 - 15*D_2*D_26*D_29 - 45*D_20*D_26*D_29 - 45*D_21*D_26*D_29 - 45*D_22*D_26*D_29 - 45*D_23*D_26*D_29 - 45*D_24*D_26*D_29 - 45*D_25*D_26*D_29 - 9*D_0*D_27*D_29 - 9*D_1*D_27*D_29 - 18*D_12*D_27*D_29 - 18*D_13*D_27*D_29 - 18*D_14*D_27*D_29 - 18*D_15*D_27*D_29 - 9*D_2*D_27*D_29 - 27*D_20*D_27*D_29 - 27*D_21*D_27*D_29 - 27*D_22*D_27*D_29 - 27*D_23*D_27*D_29 - 27*D_24*D_27*D_29 - 27*D_25*D_27*D_29 - 3*D_0*D_11*D_3 - 6*D_11*D_12*D_3 - 6*D_11*D_13*D_3 - 2*D_0*D_14*D_3 - 4*D_12*D_14*D_3 - 4*D_13*D_14*D_3 - 2*D_0*D_15*D_3 - 4*D_12*D_15*D_3 - 4*D_13*D_15*D_3 - 12*D_11*D_16*D_3 - 8*D_14*D_16*D_3 - 8*D_15*D_16*D_3 - 12*D_11*D_17*D_3 - 8*D_14*D_17*D_3 - 8*D_15*D_17*D_3 - 4*D_0*D_18*D_3 - 8*D_12*D_18*D_3 - 8*D_13*D_18*D_3 - 16*D_16*D_18*D_3 - 16*D_17*D_18*D_3 - 4*D_0*D_19*D_3 - 8*D_12*D_19*D_3 - 8*D_13*D_19*D_3 - 16*D_16*D_19*D_3 - 16*D_17*D_19*D_3 - 3*D_0*D_20*D_3 - 9*D_11*D_20*D_3 - 6*D_12*D_20*D_3 - 6*D_13*D_20*D_3 - 6*D_14*D_20*D_3 - 6*D_15*D_20*D_3 - 12*D_16*D_20*D_3 - 12*D_17*D_20*D_3 - 12*D_18*D_20*D_3 - 12*D_19*D_20*D_3 - 9*D_20^2*D_3 - 9*D_11*D_21*D_3 - 6*D_14*D_21*D_3 - 6*D_15*D_21*D_3 - 12*D_18*D_21*D_3 - 12*D_19*D_21*D_3 - 9*D_20*D_21*D_3 - 9*D_11*D_22*D_3 - 6*D_14*D_22*D_3 - 6*D_15*D_22*D_3 - 12*D_18*D_22*D_3 - 12*D_19*D_22*D_3 - 9*D_20*D_22*D_3 - 9*D_11*D_23*D_3 - 6*D_14*D_23*D_3 - 6*D_15*D_23*D_3 - 12*D_18*D_23*D_3 - 12*D_19*D_23*D_3 - 9*D_20*D_23*D_3 - 9*D_11*D_24*D_3 - 6*D_14*D_24*D_3 - 6*D_15*D_24*D_3 - 12*D_18*D_24*D_3 - 12*D_19*D_24*D_3 - 9*D_20*D_24*D_3 - 3*D_0*D_25*D_3 - 9*D_11*D_25*D_3 - 6*D_12*D_25*D_3 - 6*D_13*D_25*D_3 - 6*D_14*D_25*D_3 - 6*D_15*D_25*D_3 - 12*D_16*D_25*D_3 - 12*D_17*D_25*D_3 - 12*D_18*D_25*D_3 - 12*D_19*D_25*D_3 - 18*D_20*D_25*D_3 - 9*D_21*D_25*D_3 - 9*D_22*D_25*D_3 - 9*D_23*D_25*D_3 - 9*D_24*D_25*D_3 - 9*D_25^2*D_3 - 5*D_0*D_26*D_3 - 15*D_11*D_26*D_3 - 10*D_12*D_26*D_3 - 10*D_13*D_26*D_3 - 10*D_14*D_26*D_3 - 10*D_15*D_26*D_3 - 20*D_16*D_26*D_3 - 20*D_17*D_26*D_3 - 20*D_18*D_26*D_3 - 20*D_19*D_26*D_3 - 30*D_20*D_26*D_3 - 15*D_21*D_26*D_3 - 15*D_22*D_26*D_3 - 15*D_23*D_26*D_3 - 15*D_24*D_26*D_3 - 30*D_25*D_26*D_3 - 25*D_26^2*D_3 - 3*D_0*D_27*D_3 - 9*D_11*D_27*D_3 - 6*D_12*D_27*D_3 - 6*D_13*D_27*D_3 - 6*D_14*D_27*D_3 - 6*D_15*D_27*D_3 - 12*D_16*D_27*D_3 - 12*D_17*D_27*D_3 - 12*D_18*D_27*D_3 - 12*D_19*D_27*D_3 - 18*D_20*D_27*D_3 - 9*D_21*D_27*D_3 - 9*D_22*D_27*D_3 - 9*D_23*D_27*D_3 - 9*D_24*D_27*D_3 - 18*D_25*D_27*D_3 - 30*D_26*D_27*D_3 - 9*D_27^2*D_3 - 9*D_11*D_28*D_3 - 6*D_14*D_28*D_3 - 6*D_15*D_28*D_3 - 12*D_18*D_28*D_3 - 12*D_19*D_28*D_3 - 9*D_20*D_28*D_3 - 9*D_25*D_28*D_3 - 15*D_26*D_28*D_3 - 9*D_27*D_28*D_3 - 9*D_11*D_29*D_3 - 6*D_14*D_29*D_3 - 6*D_15*D_29*D_3 - 12*D_18*D_29*D_3 - 12*D_19*D_29*D_3 - 9*D_20*D_29*D_3 - 9*D_25*D_29*D_3 - 15*D_26*D_29*D_3 - 9*D_27*D_29*D_3 - 3*D_0*D_11*D_4 - 6*D_11*D_12*D_4 - 6*D_11*D_13*D_4 - 2*D_0*D_14*D_4 - 4*D_12*D_14*D_4 - 4*D_13*D_14*D_4 - 2*D_0*D_15*D_4 - 4*D_12*D_15*D_4 - 4*D_13*D_15*D_4 - 12*D_11*D_16*D_4 - 8*D_14*D_16*D_4 - 8*D_15*D_16*D_4 - 12*D_11*D_17*D_4 - 8*D_14*D_17*D_4 - 8*D_15*D_17*D_4 - 4*D_0*D_18*D_4 - 8*D_12*D_18*D_4 - 8*D_13*D_18*D_4 - 16*D_16*D_18*D_4 - 16*D_17*D_18*D_4 - 4*D_0*D_19*D_4 - 8*D_12*D_19*D_4 - 8*D_13*D_19*D_4 - 16*D_16*D_19*D_4 - 16*D_17*D_19*D_4 - 3*D_0*D_20*D_4 - 9*D_11*D_20*D_4 - 6*D_12*D_20*D_4 - 6*D_13*D_20*D_4 - 6*D_14*D_20*D_4 - 6*D_15*D_20*D_4 - 12*D_16*D_20*D_4 - 12*D_17*D_20*D_4 - 12*D_18*D_20*D_4 - 12*D_19*D_20*D_4 - 9*D_20^2*D_4 - 9*D_11*D_21*D_4 - 6*D_14*D_21*D_4 - 6*D_15*D_21*D_4 - 12*D_18*D_21*D_4 - 12*D_19*D_21*D_4 - 9*D_20*D_21*D_4 - 9*D_11*D_22*D_4 - 6*D_14*D_22*D_4 - 6*D_15*D_22*D_4 - 12*D_18*D_22*D_4 - 12*D_19*D_22*D_4 - 9*D_20*D_22*D_4 - 9*D_11*D_23*D_4 - 6*D_14*D_23*D_4 - 6*D_15*D_23*D_4 - 12*D_18*D_23*D_4 - 12*D_19*D_23*D_4 - 9*D_20*D_23*D_4 - 9*D_11*D_24*D_4 - 6*D_14*D_24*D_4 - 6*D_15*D_24*D_4 - 12*D_18*D_24*D_4 - 12*D_19*D_24*D_4 - 9*D_20*D_24*D_4 - 3*D_0*D_25*D_4 - 9*D_11*D_25*D_4 - 6*D_12*D_25*D_4 - 6*D_13*D_25*D_4 - 6*D_14*D_25*D_4 - 6*D_15*D_25*D_4 - 12*D_16*D_25*D_4 - 12*D_17*D_25*D_4 - 12*D_18*D_25*D_4 - 12*D_19*D_25*D_4 - 18*D_20*D_25*D_4 - 9*D_21*D_25*D_4 - 9*D_22*D_25*D_4 - 9*D_23*D_25*D_4 - 9*D_24*D_25*D_4 - 9*D_25^2*D_4 - 5*D_0*D_26*D_4 - 15*D_11*D_26*D_4 - 10*D_12*D_26*D_4 - 10*D_13*D_26*D_4 - 10*D_14*D_26*D_4 - 10*D_15*D_26*D_4 - 20*D_16*D_26*D_4 - 20*D_17*D_26*D_4 - 20*D_18*D_26*D_4 - 20*D_19*D_26*D_4 - 30*D_20*D_26*D_4 - 15*D_21*D_26*D_4 - 15*D_22*D_26*D_4 - 15*D_23*D_26*D_4 - 15*D_24*D_26*D_4 - 30*D_25*D_26*D_4 - 25*D_26^2*D_4 - 3*D_0*D_27*D_4 - 9*D_11*D_27*D_4 - 6*D_12*D_27*D_4 - 6*D_13*D_27*D_4 - 6*D_14*D_27*D_4 - 6*D_15*D_27*D_4 - 12*D_16*D_27*D_4 - 12*D_17*D_27*D_4 - 12*D_18*D_27*D_4 - 12*D_19*D_27*D_4 - 18*D_20*D_27*D_4 - 9*D_21*D_27*D_4 - 9*D_22*D_27*D_4 - 9*D_23*D_27*D_4 - 9*D_24*D_27*D_4 - 18*D_25*D_27*D_4 - 30*D_26*D_27*D_4 - 9*D_27^2*D_4 - 9*D_11*D_28*D_4 - 6*D_14*D_28*D_4 - 6*D_15*D_28*D_4 - 12*D_18*D_28*D_4 - 12*D_19*D_28*D_4 - 9*D_20*D_28*D_4 - 9*D_25*D_28*D_4 - 15*D_26*D_28*D_4 - 9*D_27*D_28*D_4 - 9*D_11*D_29*D_4 - 6*D_14*D_29*D_4 - 6*D_15*D_29*D_4 - 12*D_18*D_29*D_4 - 12*D_19*D_29*D_4 - 9*D_20*D_29*D_4 - 9*D_25*D_29*D_4 - 15*D_26*D_29*D_4 - 9*D_27*D_29*D_4 - D_0^2*D_5 - D_0*D_1*D_5 - 3*D_0*D_11*D_5 - 4*D_0*D_12*D_5 - 2*D_1*D_12*D_5 - 6*D_11*D_12*D_5 - 4*D_12^2*D_5 - 4*D_0*D_13*D_5 - 2*D_1*D_13*D_5 - 6*D_11*D_13*D_5 - 8*D_12*D_13*D_5 - 4*D_13^2*D_5 - 4*D_0*D_14*D_5 - 8*D_12*D_14*D_5 - 8*D_13*D_14*D_5 - 4*D_0*D_15*D_5 - 8*D_12*D_15*D_5 - 8*D_13*D_15*D_5 - 4*D_0*D_16*D_5 - 4*D_1*D_16*D_5 - 12*D_11*D_16*D_5 - 8*D_12*D_16*D_5 - 8*D_13*D_16*D_5 - 16*D_14*D_16*D_5 - 16*D_15*D_16*D_5 - 4*D_0*D_17*D_5 - 4*D_1*D_17*D_5 - 12*D_11*D_17*D_5 - 8*D_12*D_17*D_5 - 8*D_13*D_17*D_5 - 16*D_14*D_17*D_5 - 16*D_15*D_17*D_5 - 4*D_0*D_18*D_5 - 8*D_12*D_18*D_5 - 8*D_13*D_18*D_5 - 16*D_16*D_18*D_5 - 16*D_17*D_18*D_5 - 4*D_0*D_19*D_5 - 8*D_12*D_19*D_5 - 8*D_13*D_19*D_5 - 16*D_16*D_19*D_5 - 16*D_17*D_19*D_5 - D_0*D_2*D_5 - 2*D_12*D_2*D_5 - 2*D_13*D_2*D_5 - 4*D_16*D_2*D_5 - 4*D_17*D_2*D_5 - 9*D_0*D_20*D_5 - 3*D_1*D_20*D_5 - 9*D_11*D_20*D_5 - 18*D_12*D_20*D_5 - 18*D_13*D_20*D_5 - 12*D_14*D_20*D_5 - 12*D_15*D_20*D_5 - 24*D_16*D_20*D_5 - 24*D_17*D_20*D_5 - 12*D_18*D_20*D_5 - 12*D_19*D_20*D_5 - 3*D_2*D_20*D_5 - 18*D_20^2*D_5 - 6*D_0*D_21*D_5 - 3*D_1*D_21*D_5 - 9*D_11*D_21*D_5 - 12*D_12*D_21*D_5 - 12*D_13*D_21*D_5 - 12*D_14*D_21*D_5 - 12*D_15*D_21*D_5 - 12*D_16*D_21*D_5 - 12*D_17*D_21*D_5 - 12*D_18*D_21*D_5 - 12*D_19*D_21*D_5 - 3*D_2*D_21*D_5 - 27*D_20*D_21*D_5 - 9*D_21^2*D_5 - 6*D_0*D_22*D_5 - 3*D_1*D_22*D_5 - 9*D_11*D_22*D_5 - 12*D_12*D_22*D_5 - 12*D_13*D_22*D_5 - 12*D_14*D_22*D_5 - 12*D_15*D_22*D_5 - 12*D_16*D_22*D_5 - 12*D_17*D_22*D_5 - 12*D_18*D_22*D_5 - 12*D_19*D_22*D_5 - 3*D_2*D_22*D_5 - 27*D_20*D_22*D_5 - 18*D_21*D_22*D_5 - 9*D_22^2*D_5 - 6*D_0*D_23*D_5 - 3*D_1*D_23*D_5 - 9*D_11*D_23*D_5 - 12*D_12*D_23*D_5 - 12*D_13*D_23*D_5 - 12*D_14*D_23*D_5 - 12*D_15*D_23*D_5 - 12*D_16*D_23*D_5 - 12*D_17*D_23*D_5 - 12*D_18*D_23*D_5 - 12*D_19*D_23*D_5 - 3*D_2*D_23*D_5 - 27*D_20*D_23*D_5 - 18*D_21*D_23*D_5 - 18*D_22*D_23*D_5 - 9*D_23^2*D_5 - 6*D_0*D_24*D_5 - 3*D_1*D_24*D_5 - 9*D_11*D_24*D_5 - 12*D_12*D_24*D_5 - 12*D_13*D_24*D_5 - 12*D_14*D_24*D_5 - 12*D_15*D_24*D_5 - 12*D_16*D_24*D_5 - 12*D_17*D_24*D_5 - 12*D_18*D_24*D_5 - 12*D_19*D_24*D_5 - 3*D_2*D_24*D_5 - 27*D_20*D_24*D_5 - 18*D_21*D_24*D_5 - 18*D_22*D_24*D_5 - 18*D_23*D_24*D_5 - 9*D_24^2*D_5 - 9*D_0*D_25*D_5 - 3*D_1*D_25*D_5 - 9*D_11*D_25*D_5 - 18*D_12*D_25*D_5 - 18*D_13*D_25*D_5 - 12*D_14*D_25*D_5 - 12*D_15*D_25*D_5 - 24*D_16*D_25*D_5 - 24*D_17*D_25*D_5 - 12*D_18*D_25*D_5 - 12*D_19*D_25*D_5 - 3*D_2*D_25*D_5 - 36*D_20*D_25*D_5 - 27*D_21*D_25*D_5 - 27*D_22*D_25*D_5 - 27*D_23*D_25*D_5 - 27*D_24*D_25*D_5 - 18*D_25^2*D_5 - 10*D_0*D_26*D_5 - 5*D_1*D_26*D_5 - 15*D_11*D_26*D_5 - 20*D_12*D_26*D_5 - 20*D_13*D_26*D_5 - 20*D_14*D_26*D_5 - 20*D_15*D_26*D_5 - 20*D_16*D_26*D_5 - 20*D_17*D_26*D_5 - 20*D_18*D_26*D_5 - 20*D_19*D_26*D_5 - 5*D_2*D_26*D_5 - 45*D_20*D_26*D_5 - 30*D_21*D_26*D_5 - 30*D_22*D_26*D_5 - 30*D_23*D_26*D_5 - 30*D_24*D_26*D_5 - 45*D_25*D_26*D_5 - 25*D_26^2*D_5 - 6*D_0*D_27*D_5 - 3*D_1*D_27*D_5 - 9*D_11*D_27*D_5 - 12*D_12*D_27*D_5 - 12*D_13*D_27*D_5 - 12*D_14*D_27*D_5 - 12*D_15*D_27*D_5 - 12*D_16*D_27*D_5 - 12*D_17*D_27*D_5 - 12*D_18*D_27*D_5 - 12*D_19*D_27*D_5 - 3*D_2*D_27*D_5 - 27*D_20*D_27*D_5 - 18*D_21*D_27*D_5 - 18*D_22*D_27*D_5 - 18*D_23*D_27*D_5 - 18*D_24*D_27*D_5 - 27*D_25*D_27*D_5 - 30*D_26*D_27*D_5 - 9*D_27^2*D_5 - 3*D_0*D_28*D_5 - 3*D_1*D_28*D_5 - 9*D_11*D_28*D_5 - 6*D_12*D_28*D_5 - 6*D_13*D_28*D_5 - 12*D_14*D_28*D_5 - 12*D_15*D_28*D_5 - 12*D_18*D_28*D_5 - 12*D_19*D_28*D_5 - 3*D_2*D_28*D_5 - 18*D_20*D_28*D_5 - 9*D_21*D_28*D_5 - 9*D_22*D_28*D_5 - 9*D_23*D_28*D_5 - 9*D_24*D_28*D_5 - 18*D_25*D_28*D_5 - 15*D_26*D_28*D_5 - 9*D_27*D_28*D_5 - 3*D_0*D_29*D_5 - 3*D_1*D_29*D_5 - 9*D_11*D_29*D_5 - 6*D_12*D_29*D_5 - 6*D_13*D_29*D_5 - 12*D_14*D_29*D_5 - 12*D_15*D_29*D_5 - 12*D_18*D_29*D_5 - 12*D_19*D_29*D_5 - 3*D_2*D_29*D_5 - 18*D_20*D_29*D_5 - 9*D_21*D_29*D_5 - 9*D_22*D_29*D_5 - 9*D_23*D_29*D_5 - 9*D_24*D_29*D_5 - 18*D_25*D_29*D_5 - 15*D_26*D_29*D_5 - 9*D_27*D_29*D_5 - D_0*D_3*D_5 - 2*D_12*D_3*D_5 - 2*D_13*D_3*D_5 - 4*D_16*D_3*D_5 - 4*D_17*D_3*D_5 - 3*D_20*D_3*D_5 - 3*D_21*D_3*D_5 - 3*D_22*D_3*D_5 - 3*D_23*D_3*D_5 - 3*D_24*D_3*D_5 - 3*D_25*D_3*D_5 - 5*D_26*D_3*D_5 - 3*D_27*D_3*D_5 - 3*D_28*D_3*D_5 - 3*D_29*D_3*D_5 - D_0*D_4*D_5 - 2*D_12*D_4*D_5 - 2*D_13*D_4*D_5 - 4*D_16*D_4*D_5 - 4*D_17*D_4*D_5 - 3*D_20*D_4*D_5 - 3*D_21*D_4*D_5 - 3*D_22*D_4*D_5 - 3*D_23*D_4*D_5 - 3*D_24*D_4*D_5 - 3*D_25*D_4*D_5 - 5*D_26*D_4*D_5 - 3*D_27*D_4*D_5 - 3*D_28*D_4*D_5 - 3*D_29*D_4*D_5 - D_0*D_5^2 - 2*D_12*D_5^2 - 2*D_13*D_5^2 - 4*D_16*D_5^2 - 4*D_17*D_5^2 - 3*D_20*D_5^2 - 3*D_21*D_5^2 - 3*D_22*D_5^2 - 3*D_23*D_5^2 - 3*D_24*D_5^2 - 3*D_25*D_5^2 - 5*D_26*D_5^2 - 3*D_27*D_5^2 - 3*D_28*D_5^2 - 3*D_29*D_5^2 - 9*D_0*D_11*D_6 - 9*D_1*D_11*D_6 - 18*D_11*D_12*D_6 - 18*D_11*D_13*D_6 - 6*D_0*D_14*D_6 - 6*D_1*D_14*D_6 - 18*D_11*D_14*D_6 - 12*D_12*D_14*D_6 - 12*D_13*D_14*D_6 - 12*D_14^2*D_6 - 6*D_0*D_15*D_6 - 6*D_1*D_15*D_6 - 18*D_11*D_15*D_6 - 12*D_12*D_15*D_6 - 12*D_13*D_15*D_6 - 24*D_14*D_15*D_6 - 12*D_15^2*D_6 - 12*D_0*D_18*D_6 - 12*D_1*D_18*D_6 - 24*D_12*D_18*D_6 - 24*D_13*D_18*D_6 - 24*D_14*D_18*D_6 - 24*D_15*D_18*D_6 - 12*D_0*D_19*D_6 - 12*D_1*D_19*D_6 - 24*D_12*D_19*D_6 - 24*D_13*D_19*D_6 - 24*D_14*D_19*D_6 - 24*D_15*D_19*D_6 - 9*D_11*D_2*D_6 - 6*D_14*D_2*D_6 - 6*D_15*D_2*D_6 - 12*D_18*D_2*D_6 - 12*D_19*D_2*D_6 - 9*D_0*D_20*D_6 - 9*D_1*D_20*D_6 - 27*D_11*D_20*D_6 - 18*D_12*D_20*D_6 - 18*D_13*D_20*D_6 - 36*D_14*D_20*D_6 - 36*D_15*D_20*D_6 - 36*D_18*D_20*D_6 - 36*D_19*D_20*D_6 - 9*D_2*D_20*D_6 - 27*D_20^2*D_6 - 27*D_11*D_21*D_6 - 18*D_14*D_21*D_6 - 18*D_15*D_21*D_6 - 36*D_18*D_21*D_6 - 36*D_19*D_21*D_6 - 27*D_20*D_21*D_6 - 27*D_11*D_22*D_6 - 18*D_14*D_22*D_6 - 18*D_15*D_22*D_6 - 36*D_18*D_22*D_6 - 36*D_19*D_22*D_6 - 27*D_20*D_22*D_6 - 27*D_11*D_23*D_6 - 18*D_14*D_23*D_6 - 18*D_15*D_23*D_6 - 36*D_18*D_23*D_6 - 36*D_19*D_23*D_6 - 27*D_20*D_23*D_6 - 27*D_11*D_24*D_6 - 18*D_14*D_24*D_6 - 18*D_15*D_24*D_6 - 36*D_18*D_24*D_6 - 36*D_19*D_24*D_6 - 27*D_20*D_24*D_6 - 9*D_0*D_25*D_6 - 9*D_1*D_25*D_6 - 27*D_11*D_25*D_6 - 18*D_12*D_25*D_6 - 18*D_13*D_25*D_6 - 36*D_14*D_25*D_6 - 36*D_15*D_25*D_6 - 36*D_18*D_25*D_6 - 36*D_19*D_25*D_6 - 9*D_2*D_25*D_6 - 54*D_20*D_25*D_6 - 27*D_21*D_25*D_6 - 27*D_22*D_25*D_6 - 27*D_23*D_25*D_6 - 27*D_24*D_25*D_6 - 27*D_25^2*D_6 - 15*D_0*D_26*D_6 - 15*D_1*D_26*D_6 - 30*D_12*D_26*D_6 - 30*D_13*D_26*D_6 - 30*D_14*D_26*D_6 - 30*D_15*D_26*D_6 - 15*D_2*D_26*D_6 - 45*D_20*D_26*D_6 - 45*D_21*D_26*D_6 - 45*D_22*D_26*D_6 - 45*D_23*D_26*D_6 - 45*D_24*D_26*D_6 - 45*D_25*D_26*D_6 - 9*D_0*D_27*D_6 - 9*D_1*D_27*D_6 - 18*D_12*D_27*D_6 - 18*D_13*D_27*D_6 - 18*D_14*D_27*D_6 - 18*D_15*D_27*D_6 - 9*D_2*D_27*D_6 - 27*D_20*D_27*D_6 - 27*D_21*D_27*D_6 - 27*D_22*D_27*D_6 - 27*D_23*D_27*D_6 - 27*D_24*D_27*D_6 - 27*D_25*D_27*D_6 - 9*D_11*D_3*D_6 - 6*D_14*D_3*D_6 - 6*D_15*D_3*D_6 - 12*D_18*D_3*D_6 - 12*D_19*D_3*D_6 - 9*D_20*D_3*D_6 - 9*D_25*D_3*D_6 - 15*D_26*D_3*D_6 - 9*D_27*D_3*D_6 - 9*D_11*D_4*D_6 - 6*D_14*D_4*D_6 - 6*D_15*D_4*D_6 - 12*D_18*D_4*D_6 - 12*D_19*D_4*D_6 - 9*D_20*D_4*D_6 - 9*D_25*D_4*D_6 - 15*D_26*D_4*D_6 - 9*D_27*D_4*D_6 - 3*D_0*D_5*D_6 - 3*D_1*D_5*D_6 - 9*D_11*D_5*D_6 - 6*D_12*D_5*D_6 - 6*D_13*D_5*D_6 - 12*D_14*D_5*D_6 - 12*D_15*D_5*D_6 - 12*D_18*D_5*D_6 - 12*D_19*D_5*D_6 - 3*D_2*D_5*D_6 - 18*D_20*D_5*D_6 - 9*D_21*D_5*D_6 - 9*D_22*D_5*D_6 - 9*D_23*D_5*D_6 - 9*D_24*D_5*D_6 - 18*D_25*D_5*D_6 - 15*D_26*D_5*D_6 - 9*D_27*D_5*D_6 - 3*D_3*D_5*D_6 - 3*D_4*D_5*D_6 - 3*D_5^2*D_6 - D_0^2*xi - D_0*D_1*xi - 6*D_0*D_11*xi - 3*D_1*D_11*xi - 4*D_0*D_12*xi - 2*D_1*D_12*xi - 12*D_11*D_12*xi - 4*D_12^2*xi - 4*D_0*D_13*xi - 2*D_1*D_13*xi - 12*D_11*D_13*xi - 8*D_12*D_13*xi - 4*D_13^2*xi - 6*D_0*D_14*xi - 2*D_1*D_14*xi - 6*D_11*D_14*xi - 12*D_12*D_14*xi - 12*D_13*D_14*xi - 4*D_14^2*xi - 6*D_0*D_15*xi - 2*D_1*D_15*xi - 6*D_11*D_15*xi - 12*D_12*D_15*xi - 12*D_13*D_15*xi - 8*D_14*D_15*xi - 4*D_15^2*xi - 4*D_0*D_16*xi - 4*D_1*D_16*xi - 12*D_11*D_16*xi - 8*D_12*D_16*xi - 8*D_13*D_16*xi - 16*D_14*D_16*xi - 16*D_15*D_16*xi - 4*D_0*D_17*xi - 4*D_1*D_17*xi - 12*D_11*D_17*xi - 8*D_12*D_17*xi - 8*D_13*D_17*xi - 16*D_14*D_17*xi - 16*D_15*D_17*xi - 8*D_0*D_18*xi - 4*D_1*D_18*xi - 16*D_12*D_18*xi - 16*D_13*D_18*xi - 8*D_14*D_18*xi - 8*D_15*D_18*xi - 16*D_16*D_18*xi - 16*D_17*D_18*xi - 8*D_0*D_19*xi - 4*D_1*D_19*xi - 16*D_12*D_19*xi - 16*D_13*D_19*xi - 8*D_14*D_19*xi - 8*D_15*D_19*xi - 16*D_16*D_19*xi - 16*D_17*D_19*xi - D_0*D_2*xi - 3*D_11*D_2*xi - 2*D_12*D_2*xi - 2*D_13*D_2*xi - 2*D_14*D_2*xi - 2*D_15*D_2*xi - 4*D_16*D_2*xi - 4*D_17*D_2*xi - 4*D_18*D_2*xi - 4*D_19*D_2*xi - 12*D_0*D_20*xi - 6*D_1*D_20*xi - 18*D_11*D_20*xi - 24*D_12*D_20*xi - 24*D_13*D_20*xi - 24*D_14*D_20*xi - 24*D_15*D_20*xi - 24*D_16*D_20*xi - 24*D_17*D_20*xi - 24*D_18*D_20*xi - 24*D_19*D_20*xi - 6*D_2*D_20*xi - 27*D_20^2*xi - 6*D_0*D_21*xi - 3*D_1*D_21*xi - 18*D_11*D_21*xi - 12*D_12*D_21*xi - 12*D_13*D_21*xi - 18*D_14*D_21*xi - 18*D_15*D_21*xi - 12*D_16*D_21*xi - 12*D_17*D_21*xi - 24*D_18*D_21*xi - 24*D_19*D_21*xi - 3*D_2*D_21*xi - 36*D_20*D_21*xi - 9*D_21^2*xi - 6*D_0*D_22*xi - 3*D_1*D_22*xi - 18*D_11*D_22*xi - 12*D_12*D_22*xi - 12*D_13*D_22*xi - 18*D_14*D_22*xi - 18*D_15*D_22*xi - 12*D_16*D_22*xi - 12*D_17*D_22*xi - 24*D_18*D_22*xi - 24*D_19*D_22*xi - 3*D_2*D_22*xi - 36*D_20*D_22*xi - 18*D_21*D_22*xi - 9*D_22^2*xi - 6*D_0*D_23*xi - 3*D_1*D_23*xi - 18*D_11*D_23*xi - 12*D_12*D_23*xi - 12*D_13*D_23*xi - 18*D_14*D_23*xi - 18*D_15*D_23*xi - 12*D_16*D_23*xi - 12*D_17*D_23*xi - 24*D_18*D_23*xi - 24*D_19*D_23*xi - 3*D_2*D_23*xi - 36*D_20*D_23*xi - 18*D_21*D_23*xi - 18*D_22*D_23*xi - 9*D_23^2*xi - 6*D_0*D_24*xi - 3*D_1*D_24*xi - 18*D_11*D_24*xi - 12*D_12*D_24*xi - 12*D_13*D_24*xi - 18*D_14*D_24*xi - 18*D_15*D_24*xi - 12*D_16*D_24*xi - 12*D_17*D_24*xi - 24*D_18*D_24*xi - 24*D_19*D_24*xi - 3*D_2*D_24*xi - 36*D_20*D_24*xi - 18*D_21*D_24*xi - 18*D_22*D_24*xi - 18*D_23*D_24*xi - 9*D_24^2*xi - 12*D_0*D_25*xi - 6*D_1*D_25*xi - 18*D_11*D_25*xi - 24*D_12*D_25*xi - 24*D_13*D_25*xi - 24*D_14*D_25*xi - 24*D_15*D_25*xi - 24*D_16*D_25*xi - 24*D_17*D_25*xi - 24*D_18*D_25*xi - 24*D_19*D_25*xi - 6*D_2*D_25*xi - 54*D_20*D_25*xi - 36*D_21*D_25*xi - 36*D_22*D_25*xi - 36*D_23*D_25*xi - 36*D_24*D_25*xi - 27*D_25^2*xi - 15*D_0*D_26*xi - 10*D_1*D_26*xi - 15*D_11*D_26*xi - 30*D_12*D_26*xi - 30*D_13*D_26*xi - 30*D_14*D_26*xi - 30*D_15*D_26*xi - 20*D_16*D_26*xi - 20*D_17*D_26*xi - 20*D_18*D_26*xi - 20*D_19*D_26*xi - 10*D_2*D_26*xi - 60*D_20*D_26*xi - 45*D_21*D_26*xi - 45*D_22*D_26*xi - 45*D_23*D_26*xi - 45*D_24*D_26*xi - 60*D_25*D_26*xi - 25*D_26^2*xi - 9*D_0*D_27*xi - 6*D_1*D_27*xi - 9*D_11*D_27*xi - 18*D_12*D_27*xi - 18*D_13*D_27*xi - 18*D_14*D_27*xi - 18*D_15*D_27*xi - 12*D_16*D_27*xi - 12*D_17*D_27*xi - 12*D_18*D_27*xi - 12*D_19*D_27*xi - 6*D_2*D_27*xi - 36*D_20*D_27*xi - 27*D_21*D_27*xi - 27*D_22*D_27*xi - 27*D_23*D_27*xi - 27*D_24*D_27*xi - 36*D_25*D_27*xi - 30*D_26*D_27*xi - 9*D_27^2*xi - 3*D_0*D_28*xi - 3*D_1*D_28*xi - 9*D_11*D_28*xi - 6*D_12*D_28*xi - 6*D_13*D_28*xi - 12*D_14*D_28*xi - 12*D_15*D_28*xi - 12*D_18*D_28*xi - 12*D_19*D_28*xi - 3*D_2*D_28*xi - 18*D_20*D_28*xi - 9*D_21*D_28*xi - 9*D_22*D_28*xi - 9*D_23*D_28*xi - 9*D_24*D_28*xi - 18*D_25*D_28*xi - 15*D_26*D_28*xi - 9*D_27*D_28*xi - 3*D_0*D_29*xi - 3*D_1*D_29*xi - 9*D_11*D_29*xi - 6*D_12*D_29*xi - 6*D_13*D_29*xi - 12*D_14*D_29*xi - 12*D_15*D_29*xi - 12*D_18*D_29*xi - 12*D_19*D_29*xi - 3*D_2*D_29*xi - 18*D_20*D_29*xi - 9*D_21*D_29*xi - 9*D_22*D_29*xi - 9*D_23*D_29*xi - 9*D_24*D_29*xi - 18*D_25*D_29*xi - 15*D_26*D_29*xi - 9*D_27*D_29*xi - D_0*D_3*xi - 3*D_11*D_3*xi - 2*D_12*D_3*xi - 2*D_13*D_3*xi - 2*D_14*D_3*xi - 2*D_15*D_3*xi - 4*D_16*D_3*xi - 4*D_17*D_3*xi - 4*D_18*D_3*xi - 4*D_19*D_3*xi - 6*D_20*D_3*xi - 3*D_21*D_3*xi - 3*D_22*D_3*xi - 3*D_23*D_3*xi - 3*D_24*D_3*xi - 6*D_25*D_3*xi - 10*D_26*D_3*xi - 6*D_27*D_3*xi - 3*D_28*D_3*xi - 3*D_29*D_3*xi - D_0*D_4*xi - 3*D_11*D_4*xi - 2*D_12*D_4*xi - 2*D_13*D_4*xi - 2*D_14*D_4*xi - 2*D_15*D_4*xi - 4*D_16*D_4*xi - 4*D_17*D_4*xi - 4*D_18*D_4*xi - 4*D_19*D_4*xi - 6*D_20*D_4*xi - 3*D_21*D_4*xi - 3*D_22*D_4*xi - 3*D_23*D_4*xi - 3*D_24*D_4*xi - 6*D_25*D_4*xi - 10*D_26*D_4*xi - 6*D_27*D_4*xi - 3*D_28*D_4*xi - 3*D_29*D_4*xi - 3*D_0*D_5*xi - D_1*D_5*xi - 3*D_11*D_5*xi - 6*D_12*D_5*xi - 6*D_13*D_5*xi - 4*D_14*D_5*xi - 4*D_15*D_5*xi - 8*D_16*D_5*xi - 8*D_17*D_5*xi - 4*D_18*D_5*xi - 4*D_19*D_5*xi - D_2*D_5*xi - 12*D_20*D_5*xi - 9*D_21*D_5*xi - 9*D_22*D_5*xi - 9*D_23*D_5*xi - 9*D_24*D_5*xi - 12*D_25*D_5*xi - 15*D_26*D_5*xi - 9*D_27*D_5*xi - 6*D_28*D_5*xi - 6*D_29*D_5*xi - D_3*D_5*xi - D_4*D_5*xi - D_5^2*xi - 3*D_0*D_6*xi - 3*D_1*D_6*xi - 9*D_11*D_6*xi - 6*D_12*D_6*xi - 6*D_13*D_6*xi - 12*D_14*D_6*xi - 12*D_15*D_6*xi - 12*D_18*D_6*xi - 12*D_19*D_6*xi - 3*D_2*D_6*xi - 18*D_20*D_6*xi - 9*D_21*D_6*xi - 9*D_22*D_6*xi - 9*D_23*D_6*xi - 9*D_24*D_6*xi - 18*D_25*D_6*xi - 15*D_26*D_6*xi - 9*D_27*D_6*xi - 3*D_3*D_6*xi - 3*D_4*D_6*xi - 6*D_5*D_6*xi - 2*D_0*xi^2 - D_1*xi^2 - 3*D_11*xi^2 - 4*D_12*xi^2 - 4*D_13*xi^2 - 4*D_14*xi^2 - 4*D_15*xi^2 - 4*D_16*xi^2 - 4*D_17*xi^2 - 4*D_18*xi^2 - 4*D_19*xi^2 - D_2*xi^2 - 9*D_20*xi^2 - 6*D_21*xi^2 - 6*D_22*xi^2 - 6*D_23*xi^2 - 6*D_24*xi^2 - 9*D_25*xi^2 - 10*D_26*xi^2 - 6*D_27*xi^2 - 3*D_28*xi^2 - 3*D_29*xi^2 - D_3*xi^2 - D_4*xi^2 - 2*D_5*xi^2 - 3*D_6*xi^2 - xi^3"
      ]
     },
     "execution_count": 14,
     "metadata": {},
     "output_type": "execute_result"
    }
   ],
   "source": [
    "cl.expand().simplify()"
   ]
  },
  {
   "cell_type": "markdown",
   "id": "bd764bb8",
   "metadata": {},
   "source": [
    "The ramification profile  $(4),(2,2),(2,1,1)$ on the other hand is realizable and therefore the class in in the tautological ring has to be non-zero."
   ]
  },
  {
   "cell_type": "code",
   "execution_count": 15,
   "id": "afc4d1dc",
   "metadata": {},
   "outputs": [
    {
     "data": {
      "text/html": [
       "<html>\\(\\displaystyle -3 \\, D_{2} - \\xi\\)</html>"
      ],
      "text/latex": [
       "$\\displaystyle -3 \\, D_{2} - \\xi$"
      ],
      "text/plain": [
       "-3*D_2 - xi"
      ]
     },
     "metadata": {},
     "output_type": "display_data"
    },
    {
     "data": {
      "text/html": [
       "<html>\\(\\displaystyle \\mathrm{False}\\)</html>"
      ],
      "text/latex": [
       "$\\displaystyle \\mathrm{False}$"
      ],
      "text/plain": [
       "False"
      ]
     },
     "metadata": {},
     "output_type": "display_data"
    },
    {
     "data": {
      "text/plain": [
       "False"
      ]
     },
     "execution_count": 15,
     "metadata": {},
     "output_type": "execute_result"
    }
   ],
   "source": [
    "A= ExactStratum(Stratum([-5,1,1,1]),[[0,1,-1,0]])\n",
    "cl = A.exact_stratum_class()\n",
    "show(cl)\n",
    "show(A.to_ELG(cl)==A.X.ZERO)\n",
    "A.pushforward(A.to_ELG(cl)).is_zero()"
   ]
  },
  {
   "cell_type": "markdown",
   "id": "9e1a505b",
   "metadata": {},
   "source": [
    "The ramification profile $(2,2), (3,2), (2,1,1)$ is not admissable, since the degree is not correct."
   ]
  },
  {
   "cell_type": "code",
   "execution_count": 16,
   "id": "90efacf0",
   "metadata": {},
   "outputs": [
    {
     "name": "stdout",
     "output_type": "stream",
     "text": [
      "-(D_0 + D_1 + D_2 + D_3 + D_4 + D_5 + xi)*(D_2 + D_4 + 4*D_6 + 5*D_8 + xi)*(D_3 + D_5 + 4*D_7 + 5*D_8 + 3*D_9 + xi)\n"
     ]
    },
    {
     "data": {
      "text/html": [
       "<html>\\(\\displaystyle \\mathrm{True}\\)</html>"
      ],
      "text/latex": [
       "$\\displaystyle \\mathrm{True}$"
      ],
      "text/plain": [
       "True"
      ]
     },
     "metadata": {},
     "output_type": "display_data"
    },
    {
     "data": {
      "text/plain": [
       "True"
      ]
     },
     "execution_count": 16,
     "metadata": {},
     "output_type": "execute_result"
    }
   ],
   "source": [
    "A= ExactStratum(Stratum([-3,-3,2,1,1]),[[0,0,0,1,-1], [0,0,1,-1,0]])\n",
    "cl = A.exact_stratum_class()\n",
    "print(cl)\n",
    "show(A.to_ELG(cl)==A.X.ZERO)\n",
    "A.pushforward(A.to_ELG(cl)).is_zero()"
   ]
  },
  {
   "cell_type": "markdown",
   "id": "9a89bc3e",
   "metadata": {},
   "source": [
    "Any ramification profile with a totally ramified point is realizable, for example $(4), (2,2), (2,1,1)$."
   ]
  },
  {
   "cell_type": "code",
   "execution_count": 17,
   "id": "075db672",
   "metadata": {},
   "outputs": [
    {
     "name": "stdout",
     "output_type": "stream",
     "text": [
      "-3*D_2 - xi\n"
     ]
    },
    {
     "data": {
      "text/html": [
       "<html>\\(\\displaystyle \\mathrm{False}\\)</html>"
      ],
      "text/latex": [
       "$\\displaystyle \\mathrm{False}$"
      ],
      "text/plain": [
       "False"
      ]
     },
     "metadata": {},
     "output_type": "display_data"
    },
    {
     "data": {
      "text/plain": [
       "False"
      ]
     },
     "execution_count": 17,
     "metadata": {},
     "output_type": "execute_result"
    }
   ],
   "source": [
    "A= ExactStratum(Stratum([-5,1,1,1]),[[0,1,-1,0]])\n",
    "cl = A.exact_stratum_class()\n",
    "print(cl)\n",
    "show(A.to_ELG(cl)==A.X.ZERO)\n",
    "A.pushforward(A.to_ELG(cl)).is_zero()"
   ]
  },
  {
   "cell_type": "markdown",
   "id": "2f7fba6f",
   "metadata": {},
   "source": [
    "Sometimes the class of $\\lambda$-exact differentials inside $\\overline{\\mathcal{M}}_{g,n}$ can be computed in several ways. For example for the ramification profile $(4),(2,2),(2,1,1)$ we can either mark all $6$ points or not the simple marked zeros.\n",
    "In the following we compute the class in both ways."
   ]
  },
  {
   "cell_type": "code",
   "execution_count": 18,
   "id": "07efba63",
   "metadata": {},
   "outputs": [
    {
     "name": "stdout",
     "output_type": "stream",
     "text": [
      "-(3*D_10 + 3*D_11 + 4*D_16 + 6*D_18 + 6*D_19 + 6*D_20 + 2*D_24 + 3*D_27 + 3*D_28 + 2*D_33 + 2*D_35 + 6*D_39 + 2*D_4 + 6*D_40 + 6*D_41 + 6*D_43 + 6*D_44 + 6*D_46 + 6*D_47 + 6*D_48 + xi)*(3*D_12 + 3*D_15 + 4*D_16 + 4*D_17 + 3*D_2 + 6*D_20 + 6*D_23 + 3*D_29 + 4*D_3 + 3*D_32 + 6*D_41 + 4*D_42 + 6*D_45 + 6*D_48 + xi)*(3*D_13 + 3*D_14 + 4*D_17 + 6*D_21 + 6*D_22 + 6*D_23 + 2*D_24 + 2*D_25 + 2*D_26 + 3*D_27 + 3*D_28 + 3*D_29 + 3*D_30 + 3*D_31 + 3*D_32 + 2*D_34 + 2*D_36 + 2*D_37 + 2*D_38 + 6*D_39 + 6*D_40 + 6*D_41 + 4*D_42 + 6*D_43 + 6*D_44 + 6*D_45 + 6*D_46 + 6*D_47 + D_49 + 2*D_7 + xi)\n"
     ]
    },
    {
     "data": {
      "text/plain": [
       "(2)"
      ]
     },
     "execution_count": 18,
     "metadata": {},
     "output_type": "execute_result"
    }
   ],
   "source": [
    "A = ExactStratum(Stratum([-5,1,1,1,0,0]), [[0,1,-1,0,0,0],[0,0,0,1,-1,0],[0,0,0,0,1,-1]])\n",
    "cl = A.exact_stratum_class()\n",
    "print(cl)\n",
    "\n",
    "A.pushforward(A.to_ELG(cl)).basis_vector()"
   ]
  },
  {
   "cell_type": "code",
   "execution_count": 19,
   "id": "69897d94",
   "metadata": {},
   "outputs": [
    {
     "name": "stdout",
     "output_type": "stream",
     "text": [
      "-3*D_2 - xi\n"
     ]
    },
    {
     "data": {
      "text/plain": [
       "(1)"
      ]
     },
     "execution_count": 19,
     "metadata": {},
     "output_type": "execute_result"
    }
   ],
   "source": [
    "A = ExactStratum(Stratum([-5,1,1,1]), [[0,1,-1,0]])\n",
    "cl = A.exact_stratum_class()\n",
    "print(cl)\n",
    "\n",
    "A.pushforward(A.to_ELG(cl)).basis_vector()"
   ]
  },
  {
   "cell_type": "markdown",
   "id": "c8d98363",
   "metadata": {},
   "source": [
    "Note that if that the forgetful map from $\\overline{\\mathcal{M}}_{0,6} \\to \\overline{\\mathcal{M}}_{0,4}$ has degree $2$ on the locus of exact differentials and thus the two results agree."
   ]
  },
  {
   "cell_type": "markdown",
   "id": "2da85065",
   "metadata": {},
   "source": [
    "  # Divisors from Hurwitz spaces (after Mullane)  \n",
    "  Let $f = (f_1,...,f_n)$ for $f_i \\in\\mathbb{Z}$ and $\\sum_{i=1}^n f_i =0$. \n",
    "  Let $D_f$  be the closure of the locus of pointed rational curves $(X,p_1,\\ldots,p_n)\\in\\mathcal{M}_{0,n}$ such that there exists a map $f : X \\to \\mathbb{P}^1$  with  ramification order $f_i$ at $p_i$  iff $i >0$ and one fibre consisting of the $p_i$ such that $f_i <0$, where the ramification at such $p_i$ is $|f_i| − 1$.\n",
    "Mullane showed that $$ D_f= \\sum_{i=1}^n f(\\{i\\})\\psi_i −\\sum_{S:1\\in S} f(S)\\delta_{0:S},$$ where\n",
    "   $S\\subseteq \\{1,\\ldots,n\\}, |S|\\geq 2, |S^c|\\geq 2$ and $f(S) = \\dfrac{1}{2} |\\sum_{i\\in S} f_i|$.\n",
    "   "
   ]
  },
  {
   "cell_type": "code",
   "execution_count": 20,
   "id": "88062264",
   "metadata": {},
   "outputs": [],
   "source": [
    "def hurwitz_divisor(f):\n",
    "    n = len(f)\n",
    "    pts = Set(range(1,n+1))\n",
    "    pts_psi = sum( 1/2*abs(f[i-1])*psiclass(i,0,n ) for i in [1..n])\n",
    "    S = Subsets(pts)\n",
    "    set_psi = 0\n",
    "    for subset in S:\n",
    "        if 1 in subset and len(subset)>=2 and len(pts-subset)>=2:\n",
    "            \n",
    "            f_subset = 1/2 * abs(sum(f[i-1] for i in subset))\n",
    "            set_psi += f_subset * sepbdiv(0,subset,0,n)\n",
    "    return pts_psi-set_psi\n",
    "\n",
    "\n",
    "# Converts a tuple to a signature of a meromoprhic stratum\n",
    "# Potentially adds simple zeros (of the differential)\n",
    "def f_to_stratum(f):\n",
    "    g = f\n",
    "    d = -sum(fi for fi in f if fi < 0)\n",
    "    #Riemann-Hurwitz \n",
    "    R = 2*d-2\n",
    "    \n",
    "    for i, fi  in enumerate(g):\n",
    "        if fi < 0:\n",
    "            g[i] = fi-1\n",
    "    \n",
    "    assert sum(g) <=-2\n",
    "    # Add simple zeros so that Riemann-Hurwitz is satisfied\n",
    "    g = g + [1 for i in range(0,-2-sum(g))]\n",
    "    \n",
    "    return g\n",
    "\n",
    "\n",
    "# Computes the class of the exact stratum corresponding to the partition f\n",
    "def hurwitz_exact(f):\n",
    "    \n",
    "    sig = f_to_stratum(f)\n",
    "    \n",
    "    #The degree of the forgetful map\n",
    "    deg =len(sig)-len(f)\n",
    "    \n",
    "    A = ExactStratum(Stratum(sig),[])\n",
    "    \n",
    "    taut_class = A.pushforward(A.to_ELG(A.exact_stratum_class()))\n",
    "    \n",
    "    # If we added addtionaly simple zeros we now need to forget them\n",
    "    if deg > 0:\n",
    "        forget_points = [1..len(sig)][-deg:]\n",
    "        \n",
    "        return taut_class.forgetful_pushforward(forget_points)\n",
    "    else:\n",
    "        return taut_class\n",
    "    \n",
    "    \n",
    "                     \n",
    "    \n",
    "\n",
    "        \n",
    "        \n"
   ]
  },
  {
   "cell_type": "code",
   "execution_count": 21,
   "id": "e5448c37",
   "metadata": {},
   "outputs": [
    {
     "data": {
      "text/plain": [
       "(0, 0, 1, 0, 0)"
      ]
     },
     "execution_count": 21,
     "metadata": {},
     "output_type": "execute_result"
    }
   ],
   "source": [
    "hurwitz_divisor([-2,-1,1,1,1]).basis_vector()"
   ]
  },
  {
   "cell_type": "code",
   "execution_count": 24,
   "id": "23dd0885-3e09-4089-9815-b91dc96bed1f",
   "metadata": {},
   "outputs": [
    {
     "data": {
      "text/plain": [
       "(0, 0, 1, 0, 0)"
      ]
     },
     "execution_count": 24,
     "metadata": {},
     "output_type": "execute_result"
    }
   ],
   "source": [
    "hurwitz_exact([-2,-1,1,1,1]).basis_vector()\n"
   ]
  },
  {
   "cell_type": "code",
   "execution_count": 22,
   "id": "b7d8b449",
   "metadata": {},
   "outputs": [
    {
     "data": {
      "text/plain": [
       "(0)"
      ]
     },
     "execution_count": 22,
     "metadata": {},
     "output_type": "execute_result"
    }
   ],
   "source": [
    "hurwitz_divisor([-2,-2,-1,5]).basis_vector()"
   ]
  },
  {
   "cell_type": "code",
   "execution_count": 23,
   "id": "552259ba",
   "metadata": {},
   "outputs": [
    {
     "data": {
      "text/plain": [
       "(0)"
      ]
     },
     "execution_count": 23,
     "metadata": {},
     "output_type": "execute_result"
    }
   ],
   "source": [
    "hurwitz_exact([-2,-2,-1,5]).basis_vector()"
   ]
  },
  {
   "cell_type": "code",
   "execution_count": null,
   "id": "bf9844ee-0701-413f-bfe1-842bf2df5ab0",
   "metadata": {},
   "outputs": [],
   "source": []
  }
 ],
 "metadata": {
  "kernelspec": {
   "display_name": "SageMath 10.2",
   "language": "sage",
   "name": "sagemath"
  },
  "language_info": {
   "codemirror_mode": {
    "name": "ipython",
    "version": 3
   },
   "file_extension": ".py",
   "mimetype": "text/x-python",
   "name": "python",
   "nbconvert_exporter": "python",
   "pygments_lexer": "ipython3",
   "version": "3.11.1"
  }
 },
 "nbformat": 4,
 "nbformat_minor": 5
}
